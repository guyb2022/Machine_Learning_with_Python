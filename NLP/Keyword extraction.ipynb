{
 "cells": [
  {
   "cell_type": "code",
   "execution_count": 1,
   "id": "cd6f6019",
   "metadata": {},
   "outputs": [
    {
     "name": "stderr",
     "output_type": "stream",
     "text": [
      "C:\\Users\\berge\\anaconda3\\lib\\site-packages\\numpy\\_distributor_init.py:30: UserWarning: loaded more than 1 DLL from .libs:\n",
      "C:\\Users\\berge\\anaconda3\\lib\\site-packages\\numpy\\.libs\\libopenblas.PYQHXLVVQ7VESDPUVUADXEVJOBGHJPAY.gfortran-win_amd64.dll\n",
      "C:\\Users\\berge\\anaconda3\\lib\\site-packages\\numpy\\.libs\\libopenblas.WCDJNK7YVMPZQ2ME2ZZHJJRJ3JIKNDB7.gfortran-win_amd64.dll\n",
      "  warnings.warn(\"loaded more than 1 DLL from .libs:\\n%s\" %\n",
      "[nltk_data] Downloading package stopwords to\n",
      "[nltk_data]     C:\\Users\\berge\\AppData\\Roaming\\nltk_data...\n",
      "[nltk_data]   Package stopwords is already up-to-date!\n",
      "[nltk_data] Downloading package wordnet to\n",
      "[nltk_data]     C:\\Users\\berge\\AppData\\Roaming\\nltk_data...\n",
      "[nltk_data]   Package wordnet is already up-to-date!\n"
     ]
    }
   ],
   "source": [
    "import pandas as pd\n",
    "import numpy as np\n",
    "import re\n",
    "import string\n",
    "import nltk\n",
    "import seaborn as sns\n",
    "import matplotlib.pyplot as plt\n",
    "nltk.download('stopwords')\n",
    "from sklearn.feature_extraction.text import CountVectorizer\n",
    "from sklearn.feature_extraction.text import TfidfVectorizer\n",
    "from sklearn.metrics.pairwise import cosine_similarity\n",
    "nltk.download('wordnet')\n",
    "ps = nltk.PorterStemmer()\n",
    "wn = nltk.WordNetLemmatizer()\n",
    "import warnings"
   ]
  },
  {
   "cell_type": "code",
   "execution_count": 2,
   "id": "9351428b",
   "metadata": {},
   "outputs": [],
   "source": [
    "\"\"\"\n",
    "Helper function to concat all lines into one text\n",
    "\"\"\"\n",
    "def constract_text(df):\n",
    "    text = \"\"\n",
    "    for index,line in df.iterrows():\n",
    "        text += line['cfp_text']\n",
    "    \n",
    "    return text"
   ]
  },
  {
   "cell_type": "markdown",
   "id": "a38d6f40",
   "metadata": {},
   "source": [
    "### Getting the data"
   ]
  },
  {
   "cell_type": "markdown",
   "id": "7b3a35a9",
   "metadata": {},
   "source": [
    "#### Reading artificial_intelligence_cfp file"
   ]
  },
  {
   "cell_type": "code",
   "execution_count": 3,
   "id": "646e1a5a",
   "metadata": {},
   "outputs": [
    {
     "name": "stdout",
     "output_type": "stream",
     "text": [
      "AI_rawdata shape: (400, 1)\n"
     ]
    }
   ],
   "source": [
    "pd.set_option('display.max_colwidth',100)\n",
    "artIn_rawdata = pd.read_csv(\"artificial_intelligence_cfp.csv\")\n",
    "artIn_rawdata = artIn_rawdata[['cfp_text']]\n",
    "print(\"AI_rawdata shape: {}\".format(artIn_rawdata.shape))\n",
    "#artIn_rawdata.head()"
   ]
  },
  {
   "cell_type": "markdown",
   "id": "3be37d4c",
   "metadata": {},
   "source": [
    "#### Reading computational_linguistics_cfp file"
   ]
  },
  {
   "cell_type": "code",
   "execution_count": 4,
   "id": "595a91e4",
   "metadata": {},
   "outputs": [
    {
     "name": "stdout",
     "output_type": "stream",
     "text": [
      "CompLin_rawdata shape: (312, 1)\n"
     ]
    }
   ],
   "source": [
    "compLing_rawdata = pd.read_csv(\"computational_linguistics_cfp.csv\")\n",
    "compLing_rawdata = compLing_rawdata[['cfp_text']]\n",
    "print(\"CompLin_rawdata shape: {}\".format(compLing_rawdata.shape))\n",
    "#compLin_rawdata.head()"
   ]
  },
  {
   "cell_type": "markdown",
   "id": "5f7aa9dd",
   "metadata": {},
   "source": [
    "#### Reading healthcare_cfp file"
   ]
  },
  {
   "cell_type": "code",
   "execution_count": 5,
   "id": "f0198523",
   "metadata": {},
   "outputs": [
    {
     "name": "stdout",
     "output_type": "stream",
     "text": [
      "healthcare_rawdata shape: (324, 1)\n"
     ]
    }
   ],
   "source": [
    "healthcare_rawdata = pd.read_csv(\"healthcare_cfp.csv\")\n",
    "healthcare_rawdata = healthcare_rawdata[['cfp_text']]\n",
    "print(\"healthcare_rawdata shape: {}\".format(healthcare_rawdata.shape))\n",
    "#healthcare_rawdata.head()"
   ]
  },
  {
   "cell_type": "markdown",
   "id": "8a91a9a9",
   "metadata": {},
   "source": [
    "#### Reading marketing_cfp file"
   ]
  },
  {
   "cell_type": "code",
   "execution_count": 6,
   "id": "3df7cfc5",
   "metadata": {},
   "outputs": [
    {
     "name": "stdout",
     "output_type": "stream",
     "text": [
      "marketing_rawdata shape: (123, 1)\n"
     ]
    }
   ],
   "source": [
    "marketing_rawdata = pd.read_csv(\"marketing_cfp.csv\")\n",
    "marketing_rawdata = marketing_rawdata[['cfp_text']]\n",
    "print(\"marketing_rawdata shape: {}\".format(marketing_rawdata.shape))\n",
    "#marketing_rawdata.head()"
   ]
  },
  {
   "cell_type": "markdown",
   "id": "48d112a0",
   "metadata": {},
   "source": [
    "#### Reading nlp_cfp file"
   ]
  },
  {
   "cell_type": "code",
   "execution_count": 7,
   "id": "7f6e75af",
   "metadata": {},
   "outputs": [
    {
     "name": "stdout",
     "output_type": "stream",
     "text": [
      "nlp_rawdata shape: (400, 1)\n"
     ]
    }
   ],
   "source": [
    "nlp_rawdata = pd.read_csv(\"nlp_cfp.csv\")\n",
    "nlp_rawdata = nlp_rawdata[['cfp_text']]\n",
    "print(\"nlp_rawdata shape: {}\".format(nlp_rawdata.shape))\n",
    "#nlp_rawdata.head()"
   ]
  },
  {
   "cell_type": "markdown",
   "id": "3a461afd",
   "metadata": {},
   "source": [
    "#### Reading signal_processing_cfp file"
   ]
  },
  {
   "cell_type": "code",
   "execution_count": 8,
   "id": "be027377",
   "metadata": {},
   "outputs": [
    {
     "name": "stdout",
     "output_type": "stream",
     "text": [
      "sig_proc_rawdata shape: (400, 1)\n"
     ]
    }
   ],
   "source": [
    "sig_proc_rawdata = pd.read_csv(\"signal_processing_cfp.csv\")\n",
    "sig_proc_rawdata = sig_proc_rawdata[['cfp_text']]\n",
    "print(\"sig_proc_rawdata shape: {}\".format(sig_proc_rawdata.shape))\n",
    "#sig_proc_rawdata.head()"
   ]
  },
  {
   "cell_type": "markdown",
   "id": "14ba3f58",
   "metadata": {},
   "source": [
    "### Concatinating all lines into one text for each topic"
   ]
  },
  {
   "cell_type": "code",
   "execution_count": 9,
   "id": "c7c462b3",
   "metadata": {},
   "outputs": [],
   "source": [
    "ai_text = constract_text(artIn_rawdata)"
   ]
  },
  {
   "cell_type": "code",
   "execution_count": 10,
   "id": "bb8e50ab",
   "metadata": {},
   "outputs": [],
   "source": [
    "compLing_text = constract_text(compLing_rawdata)"
   ]
  },
  {
   "cell_type": "code",
   "execution_count": 11,
   "id": "2425aeae",
   "metadata": {},
   "outputs": [],
   "source": [
    "healthcare_text = constract_text(healthcare_rawdata)"
   ]
  },
  {
   "cell_type": "code",
   "execution_count": 12,
   "id": "7d8a415b",
   "metadata": {},
   "outputs": [],
   "source": [
    "nlp_text = constract_text(nlp_rawdata)"
   ]
  },
  {
   "cell_type": "code",
   "execution_count": 13,
   "id": "50be6a96",
   "metadata": {},
   "outputs": [],
   "source": [
    "sig_proc_text = constract_text(sig_proc_rawdata)"
   ]
  },
  {
   "cell_type": "code",
   "execution_count": 14,
   "id": "3e69296a",
   "metadata": {},
   "outputs": [],
   "source": [
    "marketing_text = constract_text(marketing_rawdata)"
   ]
  },
  {
   "cell_type": "code",
   "execution_count": 15,
   "id": "81ee46cf",
   "metadata": {},
   "outputs": [],
   "source": [
    "documents = [ai_text, compLing_text, healthcare_text, nlp_text, sig_proc_text, marketing_text]"
   ]
  },
  {
   "cell_type": "code",
   "execution_count": 16,
   "id": "2954c7c5",
   "metadata": {},
   "outputs": [
    {
     "data": {
      "text/plain": [
       "6"
      ]
     },
     "execution_count": 16,
     "metadata": {},
     "output_type": "execute_result"
    }
   ],
   "source": [
    "len(documents)"
   ]
  },
  {
   "cell_type": "markdown",
   "id": "74d0cab1",
   "metadata": {},
   "source": [
    "###  Punctuation/Tokenization/Stopwords/Stemming/Lemmatization"
   ]
  },
  {
   "cell_type": "markdown",
   "id": "4aa7e242",
   "metadata": {},
   "source": [
    "### Remove Punctuation"
   ]
  },
  {
   "cell_type": "code",
   "execution_count": 17,
   "id": "93d9bdfa",
   "metadata": {},
   "outputs": [],
   "source": [
    "def remove_punct(text):\n",
    "    text_nonpunct = ''.join([char for char in text if char not in string.punctuation])\n",
    "    return text_nonpunct"
   ]
  },
  {
   "cell_type": "markdown",
   "id": "e3f7f0b7",
   "metadata": {},
   "source": [
    "### Tokenization"
   ]
  },
  {
   "cell_type": "code",
   "execution_count": 18,
   "id": "3d3c50d9",
   "metadata": {},
   "outputs": [],
   "source": [
    "def tokenize(text):\n",
    "    tokens = re.findall('[A-Z]+[a-z]+', text)\n",
    "    return tokens"
   ]
  },
  {
   "cell_type": "markdown",
   "id": "daf92246",
   "metadata": {},
   "source": [
    "### Remove stopwords"
   ]
  },
  {
   "cell_type": "code",
   "execution_count": 19,
   "id": "3c46254f",
   "metadata": {},
   "outputs": [],
   "source": [
    "stopwords = nltk.corpus.stopwords.words('english')\n",
    "def remove_stopwords(tokenized_list):\n",
    "    text = [word for word in tokenized_list if not word.lower() in stopwords]\n",
    "    return text"
   ]
  },
  {
   "cell_type": "markdown",
   "id": "e20558e3",
   "metadata": {},
   "source": [
    "### Stemming"
   ]
  },
  {
   "cell_type": "code",
   "execution_count": 20,
   "id": "40f7af2a",
   "metadata": {},
   "outputs": [],
   "source": [
    "def stamming(tokenize_text):\n",
    "    text = [ps.stem(word) for word in tokenize_text]\n",
    "    return text"
   ]
  },
  {
   "cell_type": "markdown",
   "id": "241b92a4",
   "metadata": {},
   "source": [
    "### Lemmatizer"
   ]
  },
  {
   "cell_type": "code",
   "execution_count": 21,
   "id": "6461985f",
   "metadata": {},
   "outputs": [],
   "source": [
    "def lemmatizing(tokenize_text):\n",
    "    text = [wn.lemmatize(word) for word in tokenize_text]\n",
    "    return text"
   ]
  },
  {
   "cell_type": "markdown",
   "id": "0465cceb",
   "metadata": {},
   "source": [
    "#### Function to run all function "
   ]
  },
  {
   "cell_type": "code",
   "execution_count": 22,
   "id": "ddf0ccfe",
   "metadata": {},
   "outputs": [],
   "source": [
    "def clean_text_lam(text):\n",
    "    text_clean = remove_punct(text)\n",
    "    text_tokenized = tokenize(text_clean)\n",
    "    text_nostop = remove_stopwords(text_tokenized)\n",
    "    text_lemmatized = lemmatizing(text_nostop)\n",
    "    return text_lemmatized"
   ]
  },
  {
   "cell_type": "code",
   "execution_count": 64,
   "id": "2e7511c9",
   "metadata": {},
   "outputs": [],
   "source": [
    "def clean_text_stem(text):\n",
    "    text_clean = remove_punct(text)\n",
    "    text_tokenized = tokenize(text_clean)\n",
    "    text_nostop = remove_stopwords(text_tokenized)\n",
    "    text_stemmed = stamming(text_nostop)\n",
    "    print(len(text_stemmed))\n",
    "    return text_stemmed"
   ]
  },
  {
   "cell_type": "markdown",
   "id": "955ed510",
   "metadata": {},
   "source": [
    "## Vectorization "
   ]
  },
  {
   "cell_type": "markdown",
   "id": "26943803",
   "metadata": {},
   "source": [
    "### TF-IDF"
   ]
  },
  {
   "cell_type": "code",
   "execution_count": 31,
   "id": "4a868db9",
   "metadata": {},
   "outputs": [],
   "source": [
    "tfidf_vect = TfidfVectorizer(analyzer=clean_text_stem)\n",
    "spars_matrix_tfidf = tfidf_vect.fit_transform(documents)"
   ]
  },
  {
   "cell_type": "code",
   "execution_count": 32,
   "id": "ae1350c3",
   "metadata": {},
   "outputs": [
    {
     "name": "stdout",
     "output_type": "stream",
     "text": [
      "(6, 19358)\n"
     ]
    }
   ],
   "source": [
    "doc_term_matrix = spars_matrix_tfidf.todense()\n",
    "print(spars_matrix_tfidf.shape)"
   ]
  },
  {
   "cell_type": "code",
   "execution_count": 33,
   "id": "3fb6ad75",
   "metadata": {},
   "outputs": [
    {
     "data": {
      "text/html": [
       "<div>\n",
       "<style scoped>\n",
       "    .dataframe tbody tr th:only-of-type {\n",
       "        vertical-align: middle;\n",
       "    }\n",
       "\n",
       "    .dataframe tbody tr th {\n",
       "        vertical-align: top;\n",
       "    }\n",
       "\n",
       "    .dataframe thead th {\n",
       "        text-align: right;\n",
       "    }\n",
       "</style>\n",
       "<table border=\"1\" class=\"dataframe\">\n",
       "  <thead>\n",
       "    <tr style=\"text-align: right;\">\n",
       "      <th></th>\n",
       "      <th>aachen</th>\n",
       "      <th>aadil</th>\n",
       "      <th>aakash</th>\n",
       "      <th>aalasp</th>\n",
       "      <th>aalborg</th>\n",
       "      <th>aalesund</th>\n",
       "      <th>aalst</th>\n",
       "      <th>aalto</th>\n",
       "      <th>aarhu</th>\n",
       "      <th>aarn</th>\n",
       "      <th>...</th>\n",
       "      <th>zuva</th>\n",
       "      <th>zuzana</th>\n",
       "      <th>zvarova</th>\n",
       "      <th>zvonko</th>\n",
       "      <th>zweigenbaum</th>\n",
       "      <th>zwiggelaar</th>\n",
       "      <th>zxjf</th>\n",
       "      <th>zydney</th>\n",
       "      <th>zygmunt</th>\n",
       "      <th>zyrian</th>\n",
       "    </tr>\n",
       "  </thead>\n",
       "  <tbody>\n",
       "    <tr>\n",
       "      <th>ai_text</th>\n",
       "      <td>0.000530</td>\n",
       "      <td>0.000000</td>\n",
       "      <td>0.000517</td>\n",
       "      <td>0.000000</td>\n",
       "      <td>0.000307</td>\n",
       "      <td>0.000000</td>\n",
       "      <td>0.000000</td>\n",
       "      <td>0.000229</td>\n",
       "      <td>0.000000</td>\n",
       "      <td>0.000000</td>\n",
       "      <td>...</td>\n",
       "      <td>0.000000</td>\n",
       "      <td>0.000000</td>\n",
       "      <td>0.000000</td>\n",
       "      <td>0.000000</td>\n",
       "      <td>0.000000</td>\n",
       "      <td>0.000000</td>\n",
       "      <td>0.000000</td>\n",
       "      <td>0.000000</td>\n",
       "      <td>0.000000</td>\n",
       "      <td>0.000000</td>\n",
       "    </tr>\n",
       "    <tr>\n",
       "      <th>compLin_text</th>\n",
       "      <td>0.000749</td>\n",
       "      <td>0.000731</td>\n",
       "      <td>0.000000</td>\n",
       "      <td>0.000000</td>\n",
       "      <td>0.000000</td>\n",
       "      <td>0.000000</td>\n",
       "      <td>0.000000</td>\n",
       "      <td>0.001297</td>\n",
       "      <td>0.001012</td>\n",
       "      <td>0.002923</td>\n",
       "      <td>...</td>\n",
       "      <td>0.000000</td>\n",
       "      <td>0.000731</td>\n",
       "      <td>0.000000</td>\n",
       "      <td>0.000000</td>\n",
       "      <td>0.014381</td>\n",
       "      <td>0.000000</td>\n",
       "      <td>0.000000</td>\n",
       "      <td>0.000000</td>\n",
       "      <td>0.002192</td>\n",
       "      <td>0.002996</td>\n",
       "    </tr>\n",
       "    <tr>\n",
       "      <th>healthcare_text</th>\n",
       "      <td>0.002516</td>\n",
       "      <td>0.000000</td>\n",
       "      <td>0.000000</td>\n",
       "      <td>0.000982</td>\n",
       "      <td>0.001165</td>\n",
       "      <td>0.000982</td>\n",
       "      <td>0.000000</td>\n",
       "      <td>0.000436</td>\n",
       "      <td>0.000000</td>\n",
       "      <td>0.000000</td>\n",
       "      <td>...</td>\n",
       "      <td>0.000000</td>\n",
       "      <td>0.000000</td>\n",
       "      <td>0.000982</td>\n",
       "      <td>0.000000</td>\n",
       "      <td>0.000000</td>\n",
       "      <td>0.000000</td>\n",
       "      <td>0.000000</td>\n",
       "      <td>0.000000</td>\n",
       "      <td>0.000000</td>\n",
       "      <td>0.000000</td>\n",
       "    </tr>\n",
       "    <tr>\n",
       "      <th>nlp_text</th>\n",
       "      <td>0.000905</td>\n",
       "      <td>0.000000</td>\n",
       "      <td>0.000000</td>\n",
       "      <td>0.000000</td>\n",
       "      <td>0.000349</td>\n",
       "      <td>0.000000</td>\n",
       "      <td>0.001178</td>\n",
       "      <td>0.001045</td>\n",
       "      <td>0.000408</td>\n",
       "      <td>0.000000</td>\n",
       "      <td>...</td>\n",
       "      <td>0.000000</td>\n",
       "      <td>0.000000</td>\n",
       "      <td>0.000000</td>\n",
       "      <td>0.000000</td>\n",
       "      <td>0.000966</td>\n",
       "      <td>0.000589</td>\n",
       "      <td>0.001178</td>\n",
       "      <td>0.000589</td>\n",
       "      <td>0.000000</td>\n",
       "      <td>0.001448</td>\n",
       "    </tr>\n",
       "    <tr>\n",
       "      <th>sig_proc_text</th>\n",
       "      <td>0.000546</td>\n",
       "      <td>0.000000</td>\n",
       "      <td>0.000000</td>\n",
       "      <td>0.000000</td>\n",
       "      <td>0.000316</td>\n",
       "      <td>0.000000</td>\n",
       "      <td>0.000000</td>\n",
       "      <td>0.000236</td>\n",
       "      <td>0.000369</td>\n",
       "      <td>0.000000</td>\n",
       "      <td>...</td>\n",
       "      <td>0.000533</td>\n",
       "      <td>0.000000</td>\n",
       "      <td>0.000000</td>\n",
       "      <td>0.000533</td>\n",
       "      <td>0.000000</td>\n",
       "      <td>0.000000</td>\n",
       "      <td>0.000000</td>\n",
       "      <td>0.000000</td>\n",
       "      <td>0.000000</td>\n",
       "      <td>0.000000</td>\n",
       "    </tr>\n",
       "    <tr>\n",
       "      <th>marketing_text</th>\n",
       "      <td>0.000000</td>\n",
       "      <td>0.000000</td>\n",
       "      <td>0.000000</td>\n",
       "      <td>0.000000</td>\n",
       "      <td>0.000000</td>\n",
       "      <td>0.000000</td>\n",
       "      <td>0.000000</td>\n",
       "      <td>0.003541</td>\n",
       "      <td>0.000000</td>\n",
       "      <td>0.000000</td>\n",
       "      <td>...</td>\n",
       "      <td>0.000000</td>\n",
       "      <td>0.000000</td>\n",
       "      <td>0.000000</td>\n",
       "      <td>0.000000</td>\n",
       "      <td>0.000000</td>\n",
       "      <td>0.000000</td>\n",
       "      <td>0.000000</td>\n",
       "      <td>0.000000</td>\n",
       "      <td>0.000000</td>\n",
       "      <td>0.000000</td>\n",
       "    </tr>\n",
       "  </tbody>\n",
       "</table>\n",
       "<p>6 rows × 19358 columns</p>\n",
       "</div>"
      ],
      "text/plain": [
       "                   aachen     aadil    aakash    aalasp   aalborg  aalesund  \\\n",
       "ai_text          0.000530  0.000000  0.000517  0.000000  0.000307  0.000000   \n",
       "compLin_text     0.000749  0.000731  0.000000  0.000000  0.000000  0.000000   \n",
       "healthcare_text  0.002516  0.000000  0.000000  0.000982  0.001165  0.000982   \n",
       "nlp_text         0.000905  0.000000  0.000000  0.000000  0.000349  0.000000   \n",
       "sig_proc_text    0.000546  0.000000  0.000000  0.000000  0.000316  0.000000   \n",
       "marketing_text   0.000000  0.000000  0.000000  0.000000  0.000000  0.000000   \n",
       "\n",
       "                    aalst     aalto     aarhu      aarn  ...      zuva  \\\n",
       "ai_text          0.000000  0.000229  0.000000  0.000000  ...  0.000000   \n",
       "compLin_text     0.000000  0.001297  0.001012  0.002923  ...  0.000000   \n",
       "healthcare_text  0.000000  0.000436  0.000000  0.000000  ...  0.000000   \n",
       "nlp_text         0.001178  0.001045  0.000408  0.000000  ...  0.000000   \n",
       "sig_proc_text    0.000000  0.000236  0.000369  0.000000  ...  0.000533   \n",
       "marketing_text   0.000000  0.003541  0.000000  0.000000  ...  0.000000   \n",
       "\n",
       "                   zuzana   zvarova    zvonko  zweigenbaum  zwiggelaar  \\\n",
       "ai_text          0.000000  0.000000  0.000000     0.000000    0.000000   \n",
       "compLin_text     0.000731  0.000000  0.000000     0.014381    0.000000   \n",
       "healthcare_text  0.000000  0.000982  0.000000     0.000000    0.000000   \n",
       "nlp_text         0.000000  0.000000  0.000000     0.000966    0.000589   \n",
       "sig_proc_text    0.000000  0.000000  0.000533     0.000000    0.000000   \n",
       "marketing_text   0.000000  0.000000  0.000000     0.000000    0.000000   \n",
       "\n",
       "                     zxjf    zydney   zygmunt    zyrian  \n",
       "ai_text          0.000000  0.000000  0.000000  0.000000  \n",
       "compLin_text     0.000000  0.000000  0.002192  0.002996  \n",
       "healthcare_text  0.000000  0.000000  0.000000  0.000000  \n",
       "nlp_text         0.001178  0.000589  0.000000  0.001448  \n",
       "sig_proc_text    0.000000  0.000000  0.000000  0.000000  \n",
       "marketing_text   0.000000  0.000000  0.000000  0.000000  \n",
       "\n",
       "[6 rows x 19358 columns]"
      ]
     },
     "execution_count": 33,
     "metadata": {},
     "output_type": "execute_result"
    }
   ],
   "source": [
    "X_tfidf_df = pd.DataFrame(doc_term_matrix,\n",
    "                          columns = tfidf_vect.get_feature_names(),\n",
    "                          index=['ai_text','compLin_text','healthcare_text',\n",
    "                                 'nlp_text','sig_proc_text','marketing_text'])\n",
    "\n",
    "X_tfidf_df.head(6)"
   ]
  },
  {
   "cell_type": "code",
   "execution_count": 67,
   "id": "7d1137c3",
   "metadata": {},
   "outputs": [
    {
     "data": {
      "text/html": [
       "<div>\n",
       "<style scoped>\n",
       "    .dataframe tbody tr th:only-of-type {\n",
       "        vertical-align: middle;\n",
       "    }\n",
       "\n",
       "    .dataframe tbody tr th {\n",
       "        vertical-align: top;\n",
       "    }\n",
       "\n",
       "    .dataframe thead th {\n",
       "        text-align: right;\n",
       "    }\n",
       "</style>\n",
       "<table border=\"1\" class=\"dataframe\">\n",
       "  <thead>\n",
       "    <tr style=\"text-align: right;\">\n",
       "      <th></th>\n",
       "      <th>ai_text</th>\n",
       "      <th>compLin_text</th>\n",
       "      <th>healthcare_text</th>\n",
       "      <th>nlp_text</th>\n",
       "      <th>sig_proc_text</th>\n",
       "      <th>marketing_text</th>\n",
       "    </tr>\n",
       "  </thead>\n",
       "  <tbody>\n",
       "    <tr>\n",
       "      <th>confer</th>\n",
       "      <td>0.339850</td>\n",
       "      <td>0.133316</td>\n",
       "      <td>0.146502</td>\n",
       "      <td>0.200976</td>\n",
       "      <td>0.306455</td>\n",
       "      <td>0.205382</td>\n",
       "    </tr>\n",
       "    <tr>\n",
       "      <th>univers</th>\n",
       "      <td>0.334572</td>\n",
       "      <td>0.723021</td>\n",
       "      <td>0.442557</td>\n",
       "      <td>0.561113</td>\n",
       "      <td>0.305036</td>\n",
       "      <td>0.257318</td>\n",
       "    </tr>\n",
       "    <tr>\n",
       "      <th>comput</th>\n",
       "      <td>0.308183</td>\n",
       "      <td>0.173538</td>\n",
       "      <td>0.128189</td>\n",
       "      <td>0.256382</td>\n",
       "      <td>0.221802</td>\n",
       "      <td>0.033050</td>\n",
       "    </tr>\n",
       "    <tr>\n",
       "      <th>intern</th>\n",
       "      <td>0.307035</td>\n",
       "      <td>0.061955</td>\n",
       "      <td>0.095924</td>\n",
       "      <td>0.171966</td>\n",
       "      <td>0.223457</td>\n",
       "      <td>0.154627</td>\n",
       "    </tr>\n",
       "    <tr>\n",
       "      <th>system</th>\n",
       "      <td>0.230391</td>\n",
       "      <td>0.034059</td>\n",
       "      <td>0.149118</td>\n",
       "      <td>0.112641</td>\n",
       "      <td>0.205013</td>\n",
       "      <td>0.076723</td>\n",
       "    </tr>\n",
       "    <tr>\n",
       "      <th>intellig</th>\n",
       "      <td>0.215246</td>\n",
       "      <td>0.031464</td>\n",
       "      <td>0.074559</td>\n",
       "      <td>0.085722</td>\n",
       "      <td>0.076850</td>\n",
       "      <td>0.022427</td>\n",
       "    </tr>\n",
       "    <tr>\n",
       "      <th>submiss</th>\n",
       "      <td>0.190004</td>\n",
       "      <td>0.170619</td>\n",
       "      <td>0.146938</td>\n",
       "      <td>0.206464</td>\n",
       "      <td>0.152045</td>\n",
       "      <td>0.101511</td>\n",
       "    </tr>\n",
       "    <tr>\n",
       "      <th>technolog</th>\n",
       "      <td>0.175777</td>\n",
       "      <td>0.101528</td>\n",
       "      <td>0.182255</td>\n",
       "      <td>0.163603</td>\n",
       "      <td>0.184914</td>\n",
       "      <td>0.099150</td>\n",
       "    </tr>\n",
       "    <tr>\n",
       "      <th>scienc</th>\n",
       "      <td>0.151682</td>\n",
       "      <td>0.100555</td>\n",
       "      <td>0.116416</td>\n",
       "      <td>0.129890</td>\n",
       "      <td>0.100969</td>\n",
       "      <td>0.072002</td>\n",
       "    </tr>\n",
       "    <tr>\n",
       "      <th>data</th>\n",
       "      <td>0.151452</td>\n",
       "      <td>0.040871</td>\n",
       "      <td>0.115544</td>\n",
       "      <td>0.119174</td>\n",
       "      <td>0.090565</td>\n",
       "      <td>0.072002</td>\n",
       "    </tr>\n",
       "  </tbody>\n",
       "</table>\n",
       "</div>"
      ],
      "text/plain": [
       "            ai_text  compLin_text  healthcare_text  nlp_text  sig_proc_text  \\\n",
       "confer     0.339850      0.133316         0.146502  0.200976       0.306455   \n",
       "univers    0.334572      0.723021         0.442557  0.561113       0.305036   \n",
       "comput     0.308183      0.173538         0.128189  0.256382       0.221802   \n",
       "intern     0.307035      0.061955         0.095924  0.171966       0.223457   \n",
       "system     0.230391      0.034059         0.149118  0.112641       0.205013   \n",
       "intellig   0.215246      0.031464         0.074559  0.085722       0.076850   \n",
       "submiss    0.190004      0.170619         0.146938  0.206464       0.152045   \n",
       "technolog  0.175777      0.101528         0.182255  0.163603       0.184914   \n",
       "scienc     0.151682      0.100555         0.116416  0.129890       0.100969   \n",
       "data       0.151452      0.040871         0.115544  0.119174       0.090565   \n",
       "\n",
       "           marketing_text  \n",
       "confer           0.205382  \n",
       "univers          0.257318  \n",
       "comput           0.033050  \n",
       "intern           0.154627  \n",
       "system           0.076723  \n",
       "intellig         0.022427  \n",
       "submiss          0.101511  \n",
       "technolog        0.099150  \n",
       "scienc           0.072002  \n",
       "data             0.072002  "
      ]
     },
     "execution_count": 67,
     "metadata": {},
     "output_type": "execute_result"
    }
   ],
   "source": [
    "X_tfidf_df.T.sort_values(by=['ai_text'],ascending=False).head(10)"
   ]
  },
  {
   "cell_type": "markdown",
   "id": "937d01cd",
   "metadata": {},
   "source": [
    "For each topics the most frequent words can be shown as above.\n",
    "This can be done for each paper"
   ]
  },
  {
   "cell_type": "markdown",
   "id": "c2aaecc0",
   "metadata": {},
   "source": [
    "## Cosine Similarity "
   ]
  },
  {
   "cell_type": "code",
   "execution_count": 34,
   "id": "64097cf1",
   "metadata": {},
   "outputs": [],
   "source": [
    "def create_heatmap(similarity, cmap = \"YlGnBu\"):\n",
    "  df = pd.DataFrame(similarity)\n",
    "  df.columns = ['ai_text','compLin_text','healthcare_text',\n",
    "                'nlp_text','sig_proc_text','marketing_text']\n",
    "  df.index = ['ai_text','compLin_text','healthcare_text',\n",
    "              'nlp_text','sig_proc_text','marketing_text']\n",
    "  fig, ax = plt.subplots(figsize=(8,5))\n",
    "  sns.heatmap(df, cmap=cmap)"
   ]
  },
  {
   "cell_type": "code",
   "execution_count": 35,
   "id": "3b6b5c64",
   "metadata": {},
   "outputs": [],
   "source": [
    "similarity_tfidf = cosine_similarity(X_tfidf_df,X_tfidf_df)"
   ]
  },
  {
   "cell_type": "markdown",
   "id": "7396413f",
   "metadata": {},
   "source": [
    "#### TF-IDF"
   ]
  },
  {
   "cell_type": "code",
   "execution_count": 38,
   "id": "52e3dd1e",
   "metadata": {},
   "outputs": [
    {
     "data": {
      "image/png": "[encoded data removed]",
      "text/plain": [
       "<Figure size 576x360 with 2 Axes>"
      ]
     },
     "metadata": {
      "needs_background": "light"
     },
     "output_type": "display_data"
    }
   ],
   "source": [
    "create_heatmap(similarity_tfidf)"
   ]
  }
 ],
 "metadata": {
  "kernelspec": {
   "display_name": "Python 3 (ipykernel)",
   "language": "python",
   "name": "python3"
  },
  "language_info": {
   "codemirror_mode": {
    "name": "ipython",
    "version": 3
   },
   "file_extension": ".py",
   "mimetype": "text/x-python",
   "name": "python",
   "nbconvert_exporter": "python",
   "pygments_lexer": "ipython3",
   "version": "3.8.8"
  }
 },
 "nbformat": 4,
 "nbformat_minor": 5
}
