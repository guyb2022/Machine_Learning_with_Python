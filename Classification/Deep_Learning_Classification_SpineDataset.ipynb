{
 "cells": [
  {
   "cell_type": "markdown",
   "metadata": {},
   "source": [
    "### Import libraries"
   ]
  },
  {
   "cell_type": "code",
   "execution_count": 1,
   "metadata": {},
   "outputs": [],
   "source": [
    "import os\n",
    "import datetime\n",
    "import pandas as pd\n",
    "import numpy as np\n",
    "import matplotlib.pyplot as plt\n",
    "import seaborn as sns\n",
    "import json\n",
    "\n",
    "from sklearn.preprocessing import StandardScaler\n",
    "from sklearn.model_selection import train_test_split\n",
    "from sklearn.metrics import confusion_matrix,ConfusionMatrixDisplay\n",
    "from sklearn.metrics import accuracy_score, precision_score, classification_report\n",
    "from sklearn.utils.class_weight import compute_class_weight\n",
    "from sklearn.metrics import roc_auc_score, roc_curve\n",
    "\n",
    "import tensorflow as tf\n",
    "from tensorflow import keras\n",
    "from tensorflow.keras import layers\n",
    "from tensorflow import keras\n",
    "from tensorflow.keras import layers\n",
    "from tensorflow.keras import Model\n",
    "from tensorflow.keras.utils import to_categorical\n",
    "\n",
    "\n",
    "tf.keras.backend.clear_session()"
   ]
  },
  {
   "cell_type": "markdown",
   "metadata": {},
   "source": [
    "### Loading Dataset\n",
    "\n",
    "#### Lower Back Pain Symptoms Dataset\n",
    "\n",
    "Source: https://www.kaggle.com/sammy123/lower-back-pain-symptoms-dataset"
   ]
  },
  {
   "cell_type": "code",
   "execution_count": null,
   "metadata": {},
   "outputs": [],
   "source": [
    "spine_data = pd.read_csv('dataset/Dataset_spine.csv', \n",
    "                         skiprows=1,\n",
    "                         names=['pelvic_incidence',\n",
    "                                'pelvic tilt',\n",
    "                                'lumbar_lordosis_angle',\n",
    "                                'sacral_slope',\n",
    "                                'pelvic_radius',\n",
    "                                'degree_spondylolisthesis',\n",
    "                                'pelvic_slope',\n",
    "                                'direct_tilt',\n",
    "                                'thoracic_slope',\n",
    "                                'cervical_tilt',\n",
    "                                'sacrum_angle',\n",
    "                                'scoliosis_slope',\n",
    "                                'class_att'])\n",
    "\n",
    "spine_data = spine_data.sample(frac=1).reset_index(drop=True)"
   ]
  },
  {
   "cell_type": "code",
   "execution_count": null,
   "metadata": {},
   "outputs": [],
   "source": [
    "spine_data.head().T"
   ]
  },
  {
   "cell_type": "code",
   "execution_count": null,
   "metadata": {},
   "outputs": [],
   "source": [
    "spine_data.shape"
   ]
  },
  {
   "cell_type": "code",
   "execution_count": null,
   "metadata": {},
   "outputs": [],
   "source": [
    "spine_data.columns"
   ]
  },
  {
   "cell_type": "code",
   "execution_count": null,
   "metadata": {},
   "outputs": [],
   "source": [
    "spine_data['class_att'].unique()"
   ]
  },
  {
   "cell_type": "code",
   "execution_count": null,
   "metadata": {},
   "outputs": [],
   "source": [
    "spine_data.describe().transpose()"
   ]
  },
  {
   "cell_type": "code",
   "execution_count": null,
   "metadata": {},
   "outputs": [],
   "source": [
    "plt.figure(figsize=(8, 6))\n",
    "\n",
    "sns.countplot('class_att', data = spine_data)\n",
    "\n",
    "plt.xlabel('class_att', fontsize = 20)\n",
    "plt.ylabel('count', fontsize = 20)\n",
    "\n",
    "plt.show()"
   ]
  },
  {
   "cell_type": "code",
   "execution_count": null,
   "metadata": {},
   "outputs": [],
   "source": [
    "plt.figure(figsize=(8, 6))\n",
    "\n",
    "sns.boxplot('class_att', 'pelvic_incidence', data = spine_data)\n",
    "\n",
    "plt.xlabel('class_att', fontsize = 20)\n",
    "plt.ylabel('pelvic_incidence', fontsize = 20)\n",
    "\n",
    "plt.show()"
   ]
  },
  {
   "cell_type": "code",
   "execution_count": null,
   "metadata": {},
   "outputs": [],
   "source": [
    "plt.figure(figsize=(8, 6))\n",
    "\n",
    "sns.boxplot('class_att', 'lumbar_lordosis_angle', data = spine_data)\n",
    "\n",
    "plt.xlabel('class_att', fontsize = 20)\n",
    "plt.ylabel('lumbar_lordosis_angle', fontsize = 20)\n",
    "\n",
    "plt.show()"
   ]
  },
  {
   "cell_type": "code",
   "execution_count": null,
   "metadata": {},
   "outputs": [],
   "source": [
    "plt.figure(figsize=(8, 6))\n",
    "\n",
    "sns.boxplot('class_att', 'pelvic_radius', data = spine_data)\n",
    "\n",
    "plt.xlabel('class_att', fontsize = 20)\n",
    "plt.ylabel('pelvic_radius', fontsize = 20)\n",
    "\n",
    "plt.show()"
   ]
  },
  {
   "cell_type": "markdown",
   "metadata": {},
   "source": [
    "### Replacing string values with integers in target column"
   ]
  },
  {
   "cell_type": "code",
   "execution_count": null,
   "metadata": {},
   "outputs": [],
   "source": [
    "class_att = {'Abnormal':0, 'Normal':1}\n",
    "\n",
    "spine_data['class_att'].replace(class_att, inplace=True)\n",
    "\n",
    "spine_data[['class_att']].sample(10)"
   ]
  },
  {
   "cell_type": "code",
   "execution_count": null,
   "metadata": {},
   "outputs": [],
   "source": [
    "features = spine_data.drop('class_att', axis=1)\n",
    "\n",
    "target = spine_data[['class_att']]"
   ]
  },
  {
   "cell_type": "code",
   "execution_count": null,
   "metadata": {},
   "outputs": [],
   "source": [
    "features.sample(5).T"
   ]
  },
  {
   "cell_type": "code",
   "execution_count": null,
   "metadata": {},
   "outputs": [],
   "source": [
    "target.sample(5)"
   ]
  },
  {
   "cell_type": "code",
   "execution_count": null,
   "metadata": {},
   "outputs": [],
   "source": [
    "standardScaler = StandardScaler()\n",
    "\n",
    "scaled_features = pd.DataFrame(standardScaler.fit_transform(features), \n",
    "                               columns=features.columns,\n",
    "                               index=features.index)\n",
    "\n",
    "scaled_features.describe().T"
   ]
  },
  {
   "cell_type": "code",
   "execution_count": null,
   "metadata": {},
   "outputs": [],
   "source": [
    "processed_data = pd.concat([scaled_features, target], axis=1,\n",
    "                            sort=False)\n",
    "processed_data.head()"
   ]
  },
  {
   "cell_type": "code",
   "execution_count": null,
   "metadata": {},
   "outputs": [],
   "source": [
    "processed_data.to_csv('dataset/spine_final_processed.csv')"
   ]
  },
  {
   "cell_type": "markdown",
   "metadata": {},
   "source": [
    "### Splitting dataset into training and testing"
   ]
  },
  {
   "cell_type": "code",
   "execution_count": 2,
   "metadata": {},
   "outputs": [],
   "source": [
    "df = pd.read_csv('dataset/spine_final_processed.csv')\n",
    "scaled_features = df.drop('class_att', axis=1)\n",
    "target = df.class_att"
   ]
  },
  {
   "cell_type": "code",
   "execution_count": 3,
   "metadata": {},
   "outputs": [],
   "source": [
    "X_train, X_test, y_train, y_test = train_test_split(scaled_features, \n",
    "                                                    target, \n",
    "                                                    test_size=0.20,\n",
    "                                                    random_state=10)"
   ]
  },
  {
   "cell_type": "code",
   "execution_count": 4,
   "metadata": {},
   "outputs": [],
   "source": [
    "X_train, X_val, y_train, y_val = train_test_split(X_train, \n",
    "                                                  y_train, \n",
    "                                                  test_size=0.15,\n",
    "                                                  random_state=10)"
   ]
  },
  {
   "cell_type": "code",
   "execution_count": 5,
   "metadata": {},
   "outputs": [],
   "source": [
    "#class_weights = compute_class_weight(class_weight='balanced',  \n",
    "#                                     classes=np.unique(y_train), \n",
    "#                                     y=y_train)\n",
    "#model_class_weights = {}\n",
    "#for e , weight in enumerate(class_weights):\n",
    "#    model_class_weights[e] = weight"
   ]
  },
  {
   "cell_type": "code",
   "execution_count": 6,
   "metadata": {},
   "outputs": [],
   "source": [
    "class SpineClassificationModel(Model):\n",
    "    def __init__(self, input_shape):\n",
    "        super(SpineClassificationModel, self).__init__()\n",
    "        self.d0 = layers.Dense(128, activation = 'relu', input_shape = [input_shape])\n",
    "        self.d1 = layers.Dense(64, activation = 'relu')\n",
    "        self.d2 = layers.Dense(1, activation = 'sigmoid')\n",
    "        self.num_epochs = 100\n",
    "\n",
    "    def call(self, x):\n",
    "        x = self.d0(x)\n",
    "        x = self.d1(x)\n",
    "        x = self.d2(x)\n",
    "        return x\n",
    "\n",
    "    def plot_result(self, y_test, y_pred, training_history):\n",
    "        dict_key = list(training_history.history.keys())\n",
    "        \n",
    "        train_acc = training_history.history['accuracy']\n",
    "        train_loss = training_history.history['loss']\n",
    "        precision = training_history.history[dict_key[2]]\n",
    "        recall = training_history.history[dict_key[3]]\n",
    "        epochs_range = range(self.num_epochs)\n",
    "\n",
    "        print(f\"Accuracy/Score: {accuracy_score(y_test, y_pred)}\")\n",
    "        print(f\"Precision = {precision_score(y_test, y_pred)}\\n\")\n",
    "        print(\"Classification Report:\\n\")\n",
    "        print(classification_report(y_test, y_pred, digits=4))\n",
    "         \n",
    "        print('\\n ploting graphs:')\n",
    "        self.plot_grapghs(epochs_range, train_acc, train_loss, precision, recall)\n",
    "        \n",
    "        print(\"Confusion Matrix: \")\n",
    "        self.confusion_matrix(y_test, y_pred)\n",
    "\n",
    "        print('ROC: ')\n",
    "        self.roc(y_test, y_pred)\n",
    "    \n",
    "    def plot_grapghs(self, epochs_range, train_acc, train_loss, precision, recall):\n",
    "        plt.figure(figsize=(14, 8))\n",
    "        plt.subplot(1, 2, 1)\n",
    "        plt.plot(epochs_range, train_acc, label='Training Accuracy')\n",
    "        plt.plot(epochs_range, train_loss, label='Training Loss')\n",
    "        plt.title('Accuracy and Loss')\n",
    "        plt.legend(['train', 'validation'], loc='upper left')\n",
    "\n",
    "        plt.subplot(1, 2, 2)\n",
    "        plt.plot(epochs_range, precision, label='Precision')\n",
    "        plt.plot(epochs_range, recall, label='Recall')\n",
    "        plt.title('Precision and Recall')\n",
    "        plt.legend(['train', 'validation'], loc='upper left')\n",
    "        plt.show()\n",
    "\n",
    "    def confusion_matrix(self, y_test, y_pred):\n",
    "        cm = confusion_matrix(y_test, y_pred)\n",
    "        disp = ConfusionMatrixDisplay(confusion_matrix=cm)\n",
    "        disp.plot(cmap=plt.cm.Blues)\n",
    "        plt.show()\n",
    "\n",
    "    def roc(self, y_test, y_pred):\n",
    "        logit_roc_auc = roc_auc_score(y_test, y_pred)\n",
    "        fpr, tpr, thresholds = roc_curve(y_test, y_pred)\n",
    "        plt.figure(figsize=(8, 6))\n",
    "        plt.plot(fpr, tpr, label=f\"Ann_model(area = {round(logit_roc_auc,2)})\")\n",
    "        plt.plot([0, 1], [0, 1], 'r--')\n",
    "        plt.xlim([0.0, 1.0])\n",
    "        plt.ylim([0.0, 1.05])\n",
    "        plt.xlabel('False Positive Rate')\n",
    "        plt.ylabel('True Positive Rate')\n",
    "        plt.title('Receiver Operating Characteristic')\n",
    "        plt.legend(loc=\"lower right\")\n",
    "        plt.savefig('Log_ROC')\n",
    "        plt.show()\n",
    "\n",
    "    def save_model(self, model, path):\n",
    "        model.save(path)\n",
    "\n",
    "    def save_model_as_json(self, model, model_path):\n",
    "        model_json = model.to_json()\n",
    "        with open(model_path, 'w') as outfile: \n",
    "            outfile.write(model_json) \n",
    "\n",
    "    def save_weight(self, model, weights_path):\n",
    "        model.save_weights(weights_path)\n",
    "\n",
    "    def load_model(self, model_path):\n",
    "        model = None\n",
    "        with open(model_path, 'r') as infile: \n",
    "            model_json = json.load(infile)\n",
    "            model = tf.keras.models.model_from_json(json.dumps(model_json))\n",
    "        return model\n",
    "\n",
    "    def load_wights(self, model, weights_path):\n",
    "        model.load_weights(weights_path)\n",
    "\n",
    "    "
   ]
  },
  {
   "cell_type": "code",
   "execution_count": 7,
   "metadata": {},
   "outputs": [
    {
     "data": {
      "text/plain": [
       "<ShuffleDataset element_spec=(TensorSpec(shape=(None, 13), dtype=tf.float64, name=None), TensorSpec(shape=(None,), dtype=tf.int64, name=None))>"
      ]
     },
     "execution_count": 7,
     "metadata": {},
     "output_type": "execute_result"
    }
   ],
   "source": [
    "dataset_train = tf.data.Dataset.from_tensor_slices((X_train.values, \n",
    "                                                    y_train.values))\n",
    "dataset_train = dataset_train.batch(16)\n",
    "dataset_train.shuffle(128)"
   ]
  },
  {
   "cell_type": "code",
   "execution_count": 8,
   "metadata": {},
   "outputs": [],
   "source": [
    "dataset_val = tf.data.Dataset.from_tensor_slices((X_val.values, y_val.values))\n",
    "dataset_val = dataset_val.batch(16)"
   ]
  },
  {
   "cell_type": "code",
   "execution_count": 9,
   "metadata": {},
   "outputs": [],
   "source": [
    "model = SpineClassificationModel(X_train.shape[1])\n",
    "\n",
    "model.compile(optimizer=tf.keras.optimizers.Adam(0.001),\n",
    "              loss=tf.keras.losses.BinaryCrossentropy(),\n",
    "              metrics=['accuracy', \n",
    "                        tf.keras.metrics.Precision(0.5),\n",
    "                        tf.keras.metrics.Recall(0.5),])"
   ]
  },
  {
   "cell_type": "code",
   "execution_count": 27,
   "metadata": {},
   "outputs": [
    {
     "name": "stdout",
     "output_type": "stream",
     "text": [
      "Epoch 1/100\n",
      "14/14 [==============================] - 0s 18ms/step - loss: 0.2379 - accuracy: 0.9000 - precision: 0.8462 - recall: 0.8333 - val_loss: 0.9957 - val_accuracy: 0.7105 - val_precision: 0.5333 - val_recall: 0.6667\n",
      "Epoch 2/100\n",
      "14/14 [==============================] - 0s 12ms/step - loss: 0.1660 - accuracy: 0.9238 - precision: 0.9167 - recall: 0.8333 - val_loss: 1.0221 - val_accuracy: 0.6842 - val_precision: 0.5000 - val_recall: 0.5833\n",
      "Epoch 3/100\n",
      "14/14 [==============================] - 0s 10ms/step - loss: 0.2315 - accuracy: 0.8905 - precision: 0.8308 - recall: 0.8182 - val_loss: 1.0829 - val_accuracy: 0.6842 - val_precision: 0.5000 - val_recall: 0.6667\n",
      "Epoch 4/100\n",
      "14/14 [==============================] - 0s 12ms/step - loss: 0.1978 - accuracy: 0.9190 - precision: 0.9016 - recall: 0.8333 - val_loss: 1.0736 - val_accuracy: 0.6842 - val_precision: 0.5000 - val_recall: 0.5833\n",
      "Epoch 5/100\n",
      "14/14 [==============================] - 0s 9ms/step - loss: 0.2311 - accuracy: 0.8952 - precision: 0.8438 - recall: 0.8182 - val_loss: 1.1147 - val_accuracy: 0.6842 - val_precision: 0.5000 - val_recall: 0.6667\n",
      "Epoch 6/100\n",
      "14/14 [==============================] - 0s 8ms/step - loss: 0.2160 - accuracy: 0.9095 - precision: 0.8852 - recall: 0.8182 - val_loss: 0.9806 - val_accuracy: 0.6842 - val_precision: 0.5000 - val_recall: 0.5833\n",
      "Epoch 7/100\n",
      "14/14 [==============================] - 0s 9ms/step - loss: 0.2378 - accuracy: 0.9095 - precision: 0.8507 - recall: 0.8636 - val_loss: 1.0383 - val_accuracy: 0.6842 - val_precision: 0.5000 - val_recall: 0.6667\n",
      "Epoch 8/100\n",
      "14/14 [==============================] - 0s 9ms/step - loss: 0.2282 - accuracy: 0.9095 - precision: 0.8852 - recall: 0.8182 - val_loss: 1.0157 - val_accuracy: 0.6579 - val_precision: 0.4615 - val_recall: 0.5000\n",
      "Epoch 9/100\n",
      "14/14 [==============================] - 0s 9ms/step - loss: 0.2583 - accuracy: 0.8905 - precision: 0.8308 - recall: 0.8182 - val_loss: 1.0378 - val_accuracy: 0.6579 - val_precision: 0.4667 - val_recall: 0.5833\n",
      "Epoch 10/100\n",
      "14/14 [==============================] - 0s 9ms/step - loss: 0.2577 - accuracy: 0.9190 - precision: 0.9153 - recall: 0.8182 - val_loss: 1.1253 - val_accuracy: 0.6842 - val_precision: 0.5000 - val_recall: 0.6667\n",
      "Epoch 11/100\n",
      "14/14 [==============================] - 0s 10ms/step - loss: 0.2557 - accuracy: 0.9095 - precision: 0.8615 - recall: 0.8485 - val_loss: 1.1592 - val_accuracy: 0.6579 - val_precision: 0.4737 - val_recall: 0.7500\n",
      "Epoch 12/100\n",
      "14/14 [==============================] - 0s 10ms/step - loss: 0.2309 - accuracy: 0.9048 - precision: 0.8710 - recall: 0.8182 - val_loss: 1.2746 - val_accuracy: 0.6579 - val_precision: 0.4737 - val_recall: 0.7500\n",
      "Epoch 13/100\n",
      "14/14 [==============================] - 0s 9ms/step - loss: 0.3569 - accuracy: 0.8952 - precision: 0.8548 - recall: 0.8030 - val_loss: 1.3143 - val_accuracy: 0.6579 - val_precision: 0.4737 - val_recall: 0.7500\n",
      "Epoch 14/100\n",
      "14/14 [==============================] - 0s 8ms/step - loss: 0.3087 - accuracy: 0.8905 - precision: 0.8644 - recall: 0.7727 - val_loss: 1.4403 - val_accuracy: 0.6316 - val_precision: 0.4500 - val_recall: 0.7500\n",
      "Epoch 15/100\n",
      "14/14 [==============================] - 0s 8ms/step - loss: 0.4128 - accuracy: 0.8810 - precision: 0.8475 - recall: 0.7576 - val_loss: 1.3493 - val_accuracy: 0.6316 - val_precision: 0.4500 - val_recall: 0.7500\n",
      "Epoch 16/100\n",
      "14/14 [==============================] - 0s 9ms/step - loss: 0.3631 - accuracy: 0.8810 - precision: 0.8596 - recall: 0.7424 - val_loss: 1.5554 - val_accuracy: 0.6316 - val_precision: 0.4500 - val_recall: 0.7500\n",
      "Epoch 17/100\n",
      "14/14 [==============================] - 0s 9ms/step - loss: 0.5074 - accuracy: 0.8429 - precision: 0.7705 - recall: 0.7121 - val_loss: 1.4037 - val_accuracy: 0.6316 - val_precision: 0.4500 - val_recall: 0.7500\n",
      "Epoch 18/100\n",
      "14/14 [==============================] - 0s 9ms/step - loss: 0.4195 - accuracy: 0.8667 - precision: 0.8519 - recall: 0.6970 - val_loss: 1.8234 - val_accuracy: 0.6053 - val_precision: 0.4286 - val_recall: 0.7500\n",
      "Epoch 19/100\n",
      "14/14 [==============================] - 0s 7ms/step - loss: 0.6330 - accuracy: 0.8524 - precision: 0.7966 - recall: 0.7121 - val_loss: 1.7328 - val_accuracy: 0.6316 - val_precision: 0.4500 - val_recall: 0.7500\n",
      "Epoch 20/100\n",
      "14/14 [==============================] - 0s 9ms/step - loss: 0.7810 - accuracy: 0.8381 - precision: 0.7581 - recall: 0.7121 - val_loss: 1.4639 - val_accuracy: 0.6316 - val_precision: 0.4500 - val_recall: 0.7500\n",
      "Epoch 21/100\n",
      "14/14 [==============================] - 0s 8ms/step - loss: 0.7578 - accuracy: 0.8286 - precision: 0.7344 - recall: 0.7121 - val_loss: 1.2964 - val_accuracy: 0.6842 - val_precision: 0.5000 - val_recall: 0.7500\n",
      "Epoch 22/100\n",
      "14/14 [==============================] - 0s 8ms/step - loss: 0.5756 - accuracy: 0.8524 - precision: 0.7612 - recall: 0.7727 - val_loss: 1.1028 - val_accuracy: 0.7105 - val_precision: 0.5294 - val_recall: 0.7500\n",
      "Epoch 23/100\n",
      "14/14 [==============================] - 0s 10ms/step - loss: 0.4162 - accuracy: 0.8667 - precision: 0.7794 - recall: 0.8030 - val_loss: 1.0920 - val_accuracy: 0.7105 - val_precision: 0.5294 - val_recall: 0.7500\n",
      "Epoch 24/100\n",
      "14/14 [==============================] - 0s 7ms/step - loss: 0.3730 - accuracy: 0.8857 - precision: 0.8182 - recall: 0.8182 - val_loss: 1.0528 - val_accuracy: 0.7105 - val_precision: 0.5294 - val_recall: 0.7500\n",
      "Epoch 25/100\n",
      "14/14 [==============================] - 0s 8ms/step - loss: 0.3724 - accuracy: 0.8714 - precision: 0.7826 - recall: 0.8182 - val_loss: 1.0066 - val_accuracy: 0.6842 - val_precision: 0.5000 - val_recall: 0.6667\n",
      "Epoch 26/100\n",
      "14/14 [==============================] - 0s 7ms/step - loss: 0.3643 - accuracy: 0.8857 - precision: 0.8088 - recall: 0.8333 - val_loss: 1.0501 - val_accuracy: 0.6579 - val_precision: 0.4615 - val_recall: 0.5000\n",
      "Epoch 27/100\n",
      "14/14 [==============================] - 0s 8ms/step - loss: 0.3737 - accuracy: 0.8857 - precision: 0.8182 - recall: 0.8182 - val_loss: 0.9882 - val_accuracy: 0.7105 - val_precision: 0.5455 - val_recall: 0.5000\n",
      "Epoch 28/100\n",
      "14/14 [==============================] - 0s 8ms/step - loss: 0.3651 - accuracy: 0.8857 - precision: 0.8182 - recall: 0.8182 - val_loss: 1.0265 - val_accuracy: 0.6842 - val_precision: 0.5000 - val_recall: 0.5000\n",
      "Epoch 29/100\n",
      "14/14 [==============================] - 0s 8ms/step - loss: 0.3524 - accuracy: 0.8857 - precision: 0.8182 - recall: 0.8182 - val_loss: 1.0014 - val_accuracy: 0.7105 - val_precision: 0.5455 - val_recall: 0.5000\n",
      "Epoch 30/100\n",
      "14/14 [==============================] - 0s 8ms/step - loss: 0.3394 - accuracy: 0.8905 - precision: 0.8209 - recall: 0.8333 - val_loss: 1.0201 - val_accuracy: 0.7105 - val_precision: 0.5455 - val_recall: 0.5000\n",
      "Epoch 31/100\n",
      "14/14 [==============================] - 0s 8ms/step - loss: 0.3210 - accuracy: 0.8905 - precision: 0.8308 - recall: 0.8182 - val_loss: 0.9654 - val_accuracy: 0.7105 - val_precision: 0.5455 - val_recall: 0.5000\n",
      "Epoch 32/100\n",
      "14/14 [==============================] - 0s 8ms/step - loss: 0.2925 - accuracy: 0.8952 - precision: 0.8333 - recall: 0.8333 - val_loss: 1.0847 - val_accuracy: 0.6842 - val_precision: 0.5000 - val_recall: 0.5833\n",
      "Epoch 33/100\n",
      "14/14 [==============================] - 0s 8ms/step - loss: 0.2273 - accuracy: 0.9238 - precision: 0.8906 - recall: 0.8636 - val_loss: 1.0667 - val_accuracy: 0.7105 - val_precision: 0.5333 - val_recall: 0.6667\n",
      "Epoch 34/100\n",
      "14/14 [==============================] - 0s 8ms/step - loss: 0.2723 - accuracy: 0.9000 - precision: 0.8358 - recall: 0.8485 - val_loss: 1.0048 - val_accuracy: 0.7105 - val_precision: 0.5455 - val_recall: 0.5000\n",
      "Epoch 35/100\n",
      "14/14 [==============================] - 0s 8ms/step - loss: 0.2563 - accuracy: 0.8952 - precision: 0.8333 - recall: 0.8333 - val_loss: 1.0322 - val_accuracy: 0.7105 - val_precision: 0.5455 - val_recall: 0.5000\n",
      "Epoch 36/100\n",
      "14/14 [==============================] - 0s 8ms/step - loss: 0.2707 - accuracy: 0.8952 - precision: 0.8438 - recall: 0.8182 - val_loss: 1.0074 - val_accuracy: 0.7105 - val_precision: 0.5455 - val_recall: 0.5000\n",
      "Epoch 37/100\n",
      "14/14 [==============================] - 0s 11ms/step - loss: 0.2656 - accuracy: 0.9000 - precision: 0.8462 - recall: 0.8333 - val_loss: 1.0118 - val_accuracy: 0.7105 - val_precision: 0.5455 - val_recall: 0.5000\n",
      "Epoch 38/100\n",
      "14/14 [==============================] - 0s 9ms/step - loss: 0.2700 - accuracy: 0.9000 - precision: 0.8358 - recall: 0.8485 - val_loss: 1.0411 - val_accuracy: 0.7105 - val_precision: 0.5455 - val_recall: 0.5000\n",
      "Epoch 39/100\n",
      "14/14 [==============================] - 0s 8ms/step - loss: 0.2524 - accuracy: 0.9143 - precision: 0.8636 - recall: 0.8636 - val_loss: 1.0546 - val_accuracy: 0.7105 - val_precision: 0.5455 - val_recall: 0.5000\n",
      "Epoch 40/100\n",
      "14/14 [==============================] - 0s 8ms/step - loss: 0.2238 - accuracy: 0.9143 - precision: 0.8750 - recall: 0.8485 - val_loss: 1.0592 - val_accuracy: 0.7105 - val_precision: 0.5455 - val_recall: 0.5000\n",
      "Epoch 41/100\n",
      "14/14 [==============================] - 0s 9ms/step - loss: 0.2217 - accuracy: 0.9190 - precision: 0.8769 - recall: 0.8636 - val_loss: 1.0659 - val_accuracy: 0.7105 - val_precision: 0.5455 - val_recall: 0.5000\n",
      "Epoch 42/100\n",
      "14/14 [==============================] - 0s 8ms/step - loss: 0.2125 - accuracy: 0.9190 - precision: 0.8769 - recall: 0.8636 - val_loss: 1.0447 - val_accuracy: 0.7105 - val_precision: 0.5455 - val_recall: 0.5000\n",
      "Epoch 43/100\n",
      "14/14 [==============================] - 0s 8ms/step - loss: 0.2082 - accuracy: 0.9190 - precision: 0.8769 - recall: 0.8636 - val_loss: 1.0203 - val_accuracy: 0.7105 - val_precision: 0.5455 - val_recall: 0.5000\n",
      "Epoch 44/100\n",
      "14/14 [==============================] - 0s 8ms/step - loss: 0.2037 - accuracy: 0.9190 - precision: 0.8769 - recall: 0.8636 - val_loss: 1.0087 - val_accuracy: 0.7105 - val_precision: 0.5455 - val_recall: 0.5000\n",
      "Epoch 45/100\n",
      "14/14 [==============================] - 0s 9ms/step - loss: 0.1849 - accuracy: 0.9238 - precision: 0.8788 - recall: 0.8788 - val_loss: 1.0325 - val_accuracy: 0.7105 - val_precision: 0.5455 - val_recall: 0.5000\n",
      "Epoch 46/100\n",
      "14/14 [==============================] - 0s 8ms/step - loss: 0.1775 - accuracy: 0.9143 - precision: 0.8750 - recall: 0.8485 - val_loss: 1.0239 - val_accuracy: 0.7105 - val_precision: 0.5455 - val_recall: 0.5000\n",
      "Epoch 47/100\n",
      "14/14 [==============================] - 0s 8ms/step - loss: 0.1736 - accuracy: 0.9286 - precision: 0.8923 - recall: 0.8788 - val_loss: 1.0502 - val_accuracy: 0.6579 - val_precision: 0.4615 - val_recall: 0.5000\n",
      "Epoch 48/100\n",
      "14/14 [==============================] - 0s 9ms/step - loss: 0.1750 - accuracy: 0.9143 - precision: 0.8750 - recall: 0.8485 - val_loss: 1.0109 - val_accuracy: 0.7105 - val_precision: 0.5385 - val_recall: 0.5833\n",
      "Epoch 49/100\n",
      "14/14 [==============================] - 0s 10ms/step - loss: 0.1667 - accuracy: 0.9190 - precision: 0.8769 - recall: 0.8636 - val_loss: 1.0134 - val_accuracy: 0.7105 - val_precision: 0.5385 - val_recall: 0.5833\n",
      "Epoch 50/100\n",
      "14/14 [==============================] - 0s 8ms/step - loss: 0.1649 - accuracy: 0.9238 - precision: 0.8788 - recall: 0.8788 - val_loss: 1.0152 - val_accuracy: 0.7105 - val_precision: 0.5385 - val_recall: 0.5833\n",
      "Epoch 51/100\n",
      "14/14 [==============================] - 0s 8ms/step - loss: 0.1626 - accuracy: 0.9143 - precision: 0.8636 - recall: 0.8636 - val_loss: 1.0264 - val_accuracy: 0.7105 - val_precision: 0.5385 - val_recall: 0.5833\n",
      "Epoch 52/100\n",
      "14/14 [==============================] - 0s 10ms/step - loss: 0.1687 - accuracy: 0.9286 - precision: 0.8923 - recall: 0.8788 - val_loss: 1.0298 - val_accuracy: 0.7105 - val_precision: 0.5385 - val_recall: 0.5833\n",
      "Epoch 53/100\n",
      "14/14 [==============================] - 0s 8ms/step - loss: 0.1637 - accuracy: 0.9286 - precision: 0.8923 - recall: 0.8788 - val_loss: 1.0621 - val_accuracy: 0.7105 - val_precision: 0.5385 - val_recall: 0.5833\n",
      "Epoch 54/100\n",
      "14/14 [==============================] - 0s 7ms/step - loss: 0.1721 - accuracy: 0.9333 - precision: 0.8939 - recall: 0.8939 - val_loss: 1.0625 - val_accuracy: 0.7368 - val_precision: 0.5714 - val_recall: 0.6667\n",
      "Epoch 55/100\n",
      "14/14 [==============================] - 0s 8ms/step - loss: 0.1793 - accuracy: 0.9286 - precision: 0.8923 - recall: 0.8788 - val_loss: 1.0597 - val_accuracy: 0.7105 - val_precision: 0.5333 - val_recall: 0.6667\n",
      "Epoch 56/100\n",
      "14/14 [==============================] - 0s 8ms/step - loss: 0.1792 - accuracy: 0.9333 - precision: 0.8939 - recall: 0.8939 - val_loss: 1.0871 - val_accuracy: 0.7105 - val_precision: 0.5333 - val_recall: 0.6667\n",
      "Epoch 57/100\n",
      "14/14 [==============================] - 0s 8ms/step - loss: 0.1782 - accuracy: 0.9333 - precision: 0.8939 - recall: 0.8939 - val_loss: 1.0934 - val_accuracy: 0.6842 - val_precision: 0.5000 - val_recall: 0.5833\n",
      "Epoch 58/100\n",
      "14/14 [==============================] - 0s 7ms/step - loss: 0.1892 - accuracy: 0.9286 - precision: 0.8923 - recall: 0.8788 - val_loss: 1.0937 - val_accuracy: 0.6842 - val_precision: 0.5000 - val_recall: 0.6667\n",
      "Epoch 59/100\n",
      "14/14 [==============================] - 0s 7ms/step - loss: 0.1831 - accuracy: 0.9286 - precision: 0.8923 - recall: 0.8788 - val_loss: 1.0928 - val_accuracy: 0.7105 - val_precision: 0.5333 - val_recall: 0.6667\n",
      "Epoch 60/100\n",
      "14/14 [==============================] - 0s 8ms/step - loss: 0.1805 - accuracy: 0.9286 - precision: 0.8923 - recall: 0.8788 - val_loss: 1.0887 - val_accuracy: 0.7105 - val_precision: 0.5385 - val_recall: 0.5833\n",
      "Epoch 61/100\n",
      "14/14 [==============================] - 0s 8ms/step - loss: 0.1788 - accuracy: 0.9333 - precision: 0.8939 - recall: 0.8939 - val_loss: 1.0321 - val_accuracy: 0.7105 - val_precision: 0.5385 - val_recall: 0.5833\n",
      "Epoch 62/100\n",
      "14/14 [==============================] - 0s 7ms/step - loss: 0.1781 - accuracy: 0.9286 - precision: 0.8806 - recall: 0.8939 - val_loss: 1.0071 - val_accuracy: 0.7105 - val_precision: 0.5385 - val_recall: 0.5833\n",
      "Epoch 63/100\n",
      "14/14 [==============================] - 0s 9ms/step - loss: 0.1789 - accuracy: 0.9286 - precision: 0.8806 - recall: 0.8939 - val_loss: 1.0082 - val_accuracy: 0.6842 - val_precision: 0.5000 - val_recall: 0.5000\n",
      "Epoch 64/100\n",
      "14/14 [==============================] - 0s 8ms/step - loss: 0.1799 - accuracy: 0.9190 - precision: 0.8769 - recall: 0.8636 - val_loss: 1.0178 - val_accuracy: 0.6842 - val_precision: 0.5000 - val_recall: 0.5000\n",
      "Epoch 65/100\n",
      "14/14 [==============================] - 0s 8ms/step - loss: 0.1766 - accuracy: 0.9238 - precision: 0.8788 - recall: 0.8788 - val_loss: 1.0419 - val_accuracy: 0.6842 - val_precision: 0.5000 - val_recall: 0.5000\n",
      "Epoch 66/100\n",
      "14/14 [==============================] - 0s 9ms/step - loss: 0.1839 - accuracy: 0.9143 - precision: 0.8636 - recall: 0.8636 - val_loss: 1.0427 - val_accuracy: 0.7105 - val_precision: 0.5455 - val_recall: 0.5000\n",
      "Epoch 67/100\n",
      "14/14 [==============================] - 0s 7ms/step - loss: 0.1839 - accuracy: 0.9190 - precision: 0.8769 - recall: 0.8636 - val_loss: 1.0561 - val_accuracy: 0.7105 - val_precision: 0.5455 - val_recall: 0.5000\n",
      "Epoch 68/100\n",
      "14/14 [==============================] - 0s 8ms/step - loss: 0.1767 - accuracy: 0.9143 - precision: 0.8636 - recall: 0.8636 - val_loss: 1.0580 - val_accuracy: 0.7105 - val_precision: 0.5455 - val_recall: 0.5000\n",
      "Epoch 69/100\n",
      "14/14 [==============================] - 0s 9ms/step - loss: 0.1822 - accuracy: 0.9286 - precision: 0.8806 - recall: 0.8939 - val_loss: 1.0505 - val_accuracy: 0.7105 - val_precision: 0.5455 - val_recall: 0.5000\n",
      "Epoch 70/100\n",
      "14/14 [==============================] - 0s 8ms/step - loss: 0.1886 - accuracy: 0.9238 - precision: 0.8788 - recall: 0.8788 - val_loss: 1.0525 - val_accuracy: 0.7105 - val_precision: 0.5455 - val_recall: 0.5000\n",
      "Epoch 71/100\n",
      "14/14 [==============================] - 0s 7ms/step - loss: 0.1765 - accuracy: 0.9190 - precision: 0.8657 - recall: 0.8788 - val_loss: 1.0740 - val_accuracy: 0.7105 - val_precision: 0.5455 - val_recall: 0.5000\n",
      "Epoch 72/100\n",
      "14/14 [==============================] - 0s 8ms/step - loss: 0.1805 - accuracy: 0.9286 - precision: 0.8806 - recall: 0.8939 - val_loss: 1.0719 - val_accuracy: 0.7368 - val_precision: 0.6000 - val_recall: 0.5000\n",
      "Epoch 73/100\n",
      "14/14 [==============================] - 0s 7ms/step - loss: 0.1724 - accuracy: 0.9238 - precision: 0.8788 - recall: 0.8788 - val_loss: 1.0824 - val_accuracy: 0.7368 - val_precision: 0.6000 - val_recall: 0.5000\n",
      "Epoch 74/100\n",
      "14/14 [==============================] - 0s 7ms/step - loss: 0.1713 - accuracy: 0.9286 - precision: 0.8806 - recall: 0.8939 - val_loss: 1.0943 - val_accuracy: 0.7368 - val_precision: 0.6000 - val_recall: 0.5000\n",
      "Epoch 75/100\n",
      "14/14 [==============================] - 0s 8ms/step - loss: 0.1657 - accuracy: 0.9238 - precision: 0.8788 - recall: 0.8788 - val_loss: 1.0974 - val_accuracy: 0.7368 - val_precision: 0.6000 - val_recall: 0.5000\n",
      "Epoch 76/100\n",
      "14/14 [==============================] - 0s 9ms/step - loss: 0.1617 - accuracy: 0.9238 - precision: 0.8788 - recall: 0.8788 - val_loss: 1.1037 - val_accuracy: 0.7368 - val_precision: 0.6000 - val_recall: 0.5000\n",
      "Epoch 77/100\n",
      "14/14 [==============================] - 0s 8ms/step - loss: 0.1522 - accuracy: 0.9333 - precision: 0.8824 - recall: 0.9091 - val_loss: 1.0884 - val_accuracy: 0.7368 - val_precision: 0.6000 - val_recall: 0.5000\n",
      "Epoch 78/100\n",
      "14/14 [==============================] - 0s 8ms/step - loss: 0.1483 - accuracy: 0.9286 - precision: 0.8806 - recall: 0.8939 - val_loss: 1.0886 - val_accuracy: 0.7368 - val_precision: 0.6000 - val_recall: 0.5000\n",
      "Epoch 79/100\n",
      "14/14 [==============================] - 0s 7ms/step - loss: 0.1430 - accuracy: 0.9286 - precision: 0.8806 - recall: 0.8939 - val_loss: 1.1059 - val_accuracy: 0.7368 - val_precision: 0.6000 - val_recall: 0.5000\n",
      "Epoch 80/100\n",
      "14/14 [==============================] - 0s 7ms/step - loss: 0.1430 - accuracy: 0.9333 - precision: 0.8939 - recall: 0.8939 - val_loss: 1.0963 - val_accuracy: 0.7368 - val_precision: 0.6000 - val_recall: 0.5000\n",
      "Epoch 81/100\n",
      "14/14 [==============================] - 0s 8ms/step - loss: 0.1307 - accuracy: 0.9524 - precision: 0.9242 - recall: 0.9242 - val_loss: 1.1249 - val_accuracy: 0.7368 - val_precision: 0.6000 - val_recall: 0.5000\n",
      "Epoch 82/100\n",
      "14/14 [==============================] - 0s 7ms/step - loss: 0.1279 - accuracy: 0.9524 - precision: 0.9375 - recall: 0.9091 - val_loss: 1.1020 - val_accuracy: 0.7105 - val_precision: 0.5455 - val_recall: 0.5000\n",
      "Epoch 83/100\n",
      "14/14 [==============================] - 0s 8ms/step - loss: 0.1331 - accuracy: 0.9429 - precision: 0.9091 - recall: 0.9091 - val_loss: 1.0857 - val_accuracy: 0.7105 - val_precision: 0.5455 - val_recall: 0.5000\n",
      "Epoch 84/100\n",
      "14/14 [==============================] - 0s 9ms/step - loss: 0.1294 - accuracy: 0.9476 - precision: 0.9104 - recall: 0.9242 - val_loss: 1.1276 - val_accuracy: 0.7368 - val_precision: 0.5833 - val_recall: 0.5833\n",
      "Epoch 85/100\n",
      "14/14 [==============================] - 0s 9ms/step - loss: 0.1473 - accuracy: 0.9429 - precision: 0.9091 - recall: 0.9091 - val_loss: 1.1382 - val_accuracy: 0.6842 - val_precision: 0.5000 - val_recall: 0.5833\n",
      "Epoch 86/100\n",
      "14/14 [==============================] - 0s 11ms/step - loss: 0.1674 - accuracy: 0.9381 - precision: 0.9077 - recall: 0.8939 - val_loss: 1.1594 - val_accuracy: 0.6579 - val_precision: 0.4667 - val_recall: 0.5833\n",
      "Epoch 87/100\n",
      "14/14 [==============================] - 0s 11ms/step - loss: 0.1957 - accuracy: 0.9333 - precision: 0.9062 - recall: 0.8788 - val_loss: 1.2129 - val_accuracy: 0.6579 - val_precision: 0.4706 - val_recall: 0.6667\n",
      "Epoch 88/100\n",
      "14/14 [==============================] - 0s 9ms/step - loss: 0.2336 - accuracy: 0.9143 - precision: 0.9000 - recall: 0.8182 - val_loss: 1.2381 - val_accuracy: 0.6316 - val_precision: 0.4375 - val_recall: 0.5833\n",
      "Epoch 89/100\n",
      "14/14 [==============================] - 0s 8ms/step - loss: 0.2486 - accuracy: 0.9143 - precision: 0.9000 - recall: 0.8182 - val_loss: 1.2209 - val_accuracy: 0.6579 - val_precision: 0.4706 - val_recall: 0.6667\n",
      "Epoch 90/100\n",
      "14/14 [==============================] - 0s 10ms/step - loss: 0.2329 - accuracy: 0.9381 - precision: 0.9077 - recall: 0.8939 - val_loss: 1.1840 - val_accuracy: 0.6316 - val_precision: 0.4375 - val_recall: 0.5833\n",
      "Epoch 91/100\n",
      "14/14 [==============================] - 0s 13ms/step - loss: 0.2168 - accuracy: 0.9286 - precision: 0.8923 - recall: 0.8788 - val_loss: 1.1671 - val_accuracy: 0.6316 - val_precision: 0.4375 - val_recall: 0.5833\n",
      "Epoch 92/100\n",
      "14/14 [==============================] - 0s 10ms/step - loss: 0.2229 - accuracy: 0.9286 - precision: 0.8923 - recall: 0.8788 - val_loss: 1.1170 - val_accuracy: 0.6316 - val_precision: 0.4375 - val_recall: 0.5833\n",
      "Epoch 93/100\n",
      "14/14 [==============================] - 0s 8ms/step - loss: 0.1912 - accuracy: 0.9286 - precision: 0.8923 - recall: 0.8788 - val_loss: 1.1191 - val_accuracy: 0.6579 - val_precision: 0.4667 - val_recall: 0.5833\n",
      "Epoch 94/100\n",
      "14/14 [==============================] - 0s 8ms/step - loss: 0.1790 - accuracy: 0.9286 - precision: 0.8923 - recall: 0.8788 - val_loss: 1.1148 - val_accuracy: 0.7105 - val_precision: 0.5385 - val_recall: 0.5833\n",
      "Epoch 95/100\n",
      "14/14 [==============================] - 0s 9ms/step - loss: 0.1735 - accuracy: 0.9286 - precision: 0.8923 - recall: 0.8788 - val_loss: 1.1180 - val_accuracy: 0.6842 - val_precision: 0.5000 - val_recall: 0.5000\n",
      "Epoch 96/100\n",
      "14/14 [==============================] - 0s 9ms/step - loss: 0.1616 - accuracy: 0.9333 - precision: 0.8939 - recall: 0.8939 - val_loss: 1.1420 - val_accuracy: 0.6842 - val_precision: 0.5000 - val_recall: 0.5000\n",
      "Epoch 97/100\n",
      "14/14 [==============================] - 0s 9ms/step - loss: 0.1754 - accuracy: 0.9190 - precision: 0.8769 - recall: 0.8636 - val_loss: 1.1279 - val_accuracy: 0.7368 - val_precision: 0.6000 - val_recall: 0.5000\n",
      "Epoch 98/100\n",
      "14/14 [==============================] - 0s 9ms/step - loss: 0.1722 - accuracy: 0.9238 - precision: 0.8788 - recall: 0.8788 - val_loss: 1.1437 - val_accuracy: 0.7368 - val_precision: 0.6000 - val_recall: 0.5000\n",
      "Epoch 99/100\n",
      "14/14 [==============================] - 0s 8ms/step - loss: 0.1755 - accuracy: 0.9286 - precision: 0.8806 - recall: 0.8939 - val_loss: 1.1272 - val_accuracy: 0.7105 - val_precision: 0.5455 - val_recall: 0.5000\n",
      "Epoch 100/100\n",
      "14/14 [==============================] - 0s 8ms/step - loss: 0.1823 - accuracy: 0.9238 - precision: 0.8676 - recall: 0.8939 - val_loss: 1.1450 - val_accuracy: 0.7105 - val_precision: 0.5455 - val_recall: 0.5000\n"
     ]
    }
   ],
   "source": [
    "training_history = model.fit(dataset_train, \n",
    "                             epochs=model.num_epochs, \n",
    "                             validation_data=dataset_val)"
   ]
  },
  {
   "cell_type": "code",
   "execution_count": 28,
   "metadata": {},
   "outputs": [
    {
     "name": "stdout",
     "output_type": "stream",
     "text": [
      "2/2 [==============================] - 0s 10ms/step - loss: 0.4525 - accuracy: 0.8065 - precision: 0.7778 - recall: 0.6364\n"
     ]
    },
    {
     "data": {
      "text/plain": [
       "loss         0.452540\n",
       "accuracy     0.806452\n",
       "precision    0.777778\n",
       "recall       0.636364\n",
       "dtype: float64"
      ]
     },
     "execution_count": 28,
     "metadata": {},
     "output_type": "execute_result"
    }
   ],
   "source": [
    "score = model.evaluate(X_test, y_test)\n",
    "score_df = pd.Series(score, index = model.metrics_names)\n",
    "score_df"
   ]
  },
  {
   "cell_type": "code",
   "execution_count": 29,
   "metadata": {},
   "outputs": [
    {
     "name": "stdout",
     "output_type": "stream",
     "text": [
      "2/2 [==============================] - 0s 3ms/step\n"
     ]
    }
   ],
   "source": [
    "y_pred = model.predict(X_test)\n",
    "y_pred = np.where(y_pred>=0.5, 1, 0)"
   ]
  },
  {
   "cell_type": "code",
   "execution_count": 30,
   "metadata": {},
   "outputs": [
    {
     "name": "stdout",
     "output_type": "stream",
     "text": [
      "Accuracy/Score: 0.8064516129032258\n",
      "Precision = 0.7777777777777778\n",
      "\n",
      "Classification Report:\n",
      "\n",
      "              precision    recall  f1-score   support\n",
      "\n",
      "           0     0.8182    0.9000    0.8571        40\n",
      "           1     0.7778    0.6364    0.7000        22\n",
      "\n",
      "    accuracy                         0.8065        62\n",
      "   macro avg     0.7980    0.7682    0.7786        62\n",
      "weighted avg     0.8038    0.8065    0.8014        62\n",
      "\n",
      "\n",
      " ploting graphs:\n"
     ]
    },
    {
     "data": {
      "image/png": "[encoded data removed]",
      "text/plain": [
       "<Figure size 1008x576 with 2 Axes>"
      ]
     },
     "metadata": {
      "needs_background": "light"
     },
     "output_type": "display_data"
    },
    {
     "name": "stdout",
     "output_type": "stream",
     "text": [
      "Confusion Matrix: \n"
     ]
    },
    {
     "data": {
      "image/png": "[encoded data removed]",
      "text/plain": [
       "<Figure size 432x288 with 2 Axes>"
      ]
     },
     "metadata": {
      "needs_background": "light"
     },
     "output_type": "display_data"
    },
    {
     "name": "stdout",
     "output_type": "stream",
     "text": [
      "ROC: \n"
     ]
    },
    {
     "data": {
      "image/png": "[encoded data removed]",
      "text/plain": [
       "<Figure size 576x432 with 1 Axes>"
      ]
     },
     "metadata": {
      "needs_background": "light"
     },
     "output_type": "display_data"
    }
   ],
   "source": [
    "model.plot_result(y_test, y_pred, training_history)"
   ]
  },
  {
   "cell_type": "code",
   "execution_count": 31,
   "metadata": {},
   "outputs": [
    {
     "name": "stdout",
     "output_type": "stream",
     "text": [
      "INFO:tensorflow:Assets written to: models/spine_model_config_weights\\assets\n"
     ]
    }
   ],
   "source": [
    "model.save_model(model, 'models/spine_model_config_weights')"
   ]
  },
  {
   "cell_type": "code",
   "execution_count": 32,
   "metadata": {},
   "outputs": [],
   "source": [
    "model.save_model_as_json(model, 'models/spine_model_config')"
   ]
  },
  {
   "cell_type": "code",
   "execution_count": 33,
   "metadata": {},
   "outputs": [],
   "source": [
    "model.save_weight(model, 'models/spine_weights')"
   ]
  },
  {
   "cell_type": "code",
   "execution_count": null,
   "metadata": {},
   "outputs": [],
   "source": []
  }
 ],
 "metadata": {
  "interpreter": {
   "hash": "713b5dbaf9691cfa9873b61b3538f4ed3447b354f31f667d1ac5f1f5907b30d9"
  },
  "kernelspec": {
   "display_name": "Python 3.10.0 64-bit",
   "language": "python",
   "name": "python3"
  },
  "language_info": {
   "codemirror_mode": {
    "name": "ipython",
    "version": 3
   },
   "file_extension": ".py",
   "mimetype": "text/x-python",
   "name": "python",
   "nbconvert_exporter": "python",
   "pygments_lexer": "ipython3",
   "version": "3.10.0"
  },
  "vscode": {
   "interpreter": {
    "hash": "817cb22576e634a3081313ec8360d8b577ff16da2473220360f42df4e1ca6516"
   }
  }
 },
 "nbformat": 4,
 "nbformat_minor": 2
}
