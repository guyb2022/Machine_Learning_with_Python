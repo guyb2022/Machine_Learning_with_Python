{
 "cells": [
  {
   "cell_type": "markdown",
   "metadata": {
    "run_control": {
     "marked": true
    }
   },
   "source": [
    "### Boosting and Stacking"
   ]
  },
  {
   "cell_type": "markdown",
   "metadata": {
    "run_control": {
     "marked": true
    }
   },
   "source": [
    "### About the database\n",
    "We will be using the [Human Activity Recognition with Smartphones](https://archive.ics.uci.edu/ml/datasets/Human+Activity+Recognition+Using+Smartphones) database, which was built from the recordings of study participants performing activities of daily living (ADL) while carrying a smartphone with an embedded inertial sensors. The objective is to classify activities into one of the six activities (walking, walking upstairs, walking downstairs, sitting, standing, and laying) performed.\n",
    "\n",
    "For each record in the dataset it is provided: \n",
    "\n",
    "- Triaxial acceleration from the accelerometer (total acceleration) and the estimated body acceleration. \n",
    "- Triaxial angular velocity from the gyroscope. \n",
    "- A 561-feature vector with time and frequency domain variables. \n",
    "- Its activity label. "
   ]
  },
  {
   "cell_type": "code",
   "execution_count": 30,
   "metadata": {
    "ExecuteTime": {
     "end_time": "2017-04-10T01:06:43.840071Z",
     "start_time": "2017-04-09T21:06:43.833258-04:00"
    },
    "run_control": {
     "marked": true
    }
   },
   "outputs": [],
   "source": [
    "import pandas as pd \
     import numpy as np \
     import matplotlib.pyplot as plt \
     import os, sys \
     import seaborn as sns\n",
    "from colorsetup import colors, palette\n",
    "sns.set_palette(palette)"
   ]
  },
  {
   "cell_type": "code",
   "execution_count": 31,
   "metadata": {
    "ExecuteTime": {
     "end_time": "2017-04-10T01:06:46.240918Z",
     "start_time": "2017-04-09T21:06:43.842607-04:00"
    },
    "run_control": {
     "marked": true
    }
   },
   "outputs": [],
   "source": [
    "## see the Human_Activity_Recognition_Using_Smartphones_Data.txt how to download the file\n",
    "data = pd.read_csv('Human_Activity_Recognition_Using_Smartphones_Data.csv')"
   ]
  },
  {
   "cell_type": "code",
   "execution_count": 32,
   "metadata": {
    "ExecuteTime": {
     "end_time": "2017-04-10T01:06:46.257618Z",
     "start_time": "2017-04-09T21:06:46.243291-04:00"
    },
    "jupyter": {
     "outputs_hidden": false
    },
    "run_control": {
     "marked": true
    }
   },
   "outputs": [
    {
     "data": {
      "text/plain": [
       "(10299, 562)"
      ]
     },
     "execution_count": 32,
     "metadata": {},
     "output_type": "execute_result"
    }
   ],
   "source": [
    "data.shape"
   ]
  },
  {
   "cell_type": "markdown",
   "metadata": {
    "run_control": {
     "marked": true
    }
   },
   "source": [
    "The data has quite a few predictor columns."
   ]
  },
  {
   "cell_type": "code",
   "execution_count": 33,
   "metadata": {
    "ExecuteTime": {
     "end_time": "2017-04-10T01:06:46.310075Z",
     "start_time": "2017-04-09T21:06:46.260274-04:00"
    },
    "jupyter": {
     "outputs_hidden": false
    },
    "run_control": {
     "marked": true
    }
   },
   "outputs": [
    {
     "data": {
      "text/plain": [
       "float64    561\n",
       "object       1\n",
       "dtype: int64"
      ]
     },
     "execution_count": 33,
     "metadata": {},
     "output_type": "execute_result"
    }
   ],
   "source": [
    "data.dtypes.value_counts()"
   ]
  },
  {
   "cell_type": "markdown",
   "metadata": {
    "run_control": {
     "marked": true
    }
   },
   "source": [
    "The minimum and maximum value for the float columns is -1.0 and 1.0, respectively. \\\n",
    "**Note** scaling is never required for tree-based methods."
   ]
  },
  {
   "cell_type": "code",
   "execution_count": 34,
   "metadata": {
    "ExecuteTime": {
     "end_time": "2017-04-10T01:06:46.596533Z",
     "start_time": "2017-04-09T21:06:46.314312-04:00"
    },
    "jupyter": {
     "outputs_hidden": false
    },
    "run_control": {
     "marked": true
    }
   },
   "outputs": [
    {
     "name": "stdout",
     "output_type": "stream",
     "text": [
      "True\n",
      "True\n"
     ]
    },
    {
     "name": "stderr",
     "output_type": "stream",
     "text": [
      "<ipython-input-34-37a36a228723>:2: DeprecationWarning: `np.float` is a deprecated alias for the builtin `float`. To silence this warning, use `float` by itself. Doing this will not modify any behavior and is safe. If you specifically wanted the numpy scalar type, use `np.float64` here.\n",
      "Deprecated in NumPy 1.20; for more details and guidance: https://numpy.org/devdocs/release/1.20.0-notes.html#deprecations\n",
      "  float_columns = (data.dtypes == np.float)\n"
     ]
    }
   ],
   "source": [
    "# Mask to select float columns\n",
    "float_columns = (data.dtypes == np.float)\n",
    "# Verify that the maximum of all float columns is 1.0\n",
    "print( (data.loc[:,float_columns].max()==1.0).all() )\n",
    "# Verify that the minimum of all float columns is -1.0\n",
    "print( (data.loc[:,float_columns].min()==-1.0).all() )\n"
   ]
  },
  {
   "cell_type": "markdown",
   "metadata": {
    "run_control": {
     "marked": true
    }
   },
   "source": [
    "### Integer encode the activities.\n",
    "### Split the data into train and test data sets. \n",
    "Decide if the data will be stratified or not during the train/test split."
   ]
  },
  {
   "cell_type": "code",
   "execution_count": 35,
   "metadata": {
    "ExecuteTime": {
     "end_time": "2017-04-10T01:06:47.046807Z",
     "start_time": "2017-04-09T21:06:46.600558-04:00"
    },
    "jupyter": {
     "outputs_hidden": false
    },
    "run_control": {
     "marked": true
    }
   },
   "outputs": [
    {
     "data": {
      "text/plain": [
       "array(['LAYING', 'SITTING', 'STANDING', 'WALKING', 'WALKING_DOWNSTAIRS',\n",
       "       'WALKING_UPSTAIRS'], dtype=object)"
      ]
     },
     "execution_count": 35,
     "metadata": {},
     "output_type": "execute_result"
    }
   ],
   "source": [
    "from sklearn.preprocessing import LabelEncoder\n",
    "le = LabelEncoder()\n",
    "data['Activity'] = le.fit_transform(data['Activity'])\n",
    "le.classes_"
   ]
  },
  {
   "cell_type": "code",
   "execution_count": 36,
   "metadata": {
    "ExecuteTime": {
     "end_time": "2017-04-10T01:06:47.053951Z",
     "start_time": "2017-04-09T21:06:47.048890-04:00"
    },
    "jupyter": {
     "outputs_hidden": false
    },
    "run_control": {
     "marked": true
    }
   },
   "outputs": [
    {
     "data": {
      "text/plain": [
       "array([2, 1, 0, 3, 4, 5])"
      ]
     },
     "execution_count": 36,
     "metadata": {},
     "output_type": "execute_result"
    }
   ],
   "source": [
    "data.Activity.unique()"
   ]
  },
  {
   "cell_type": "code",
   "execution_count": 37,
   "metadata": {
    "ExecuteTime": {
     "end_time": "2017-04-10T01:06:47.155794Z",
     "start_time": "2017-04-09T21:06:47.055576-04:00"
    },
    "run_control": {
     "marked": true
    }
   },
   "outputs": [],
   "source": [
    "from sklearn.model_selection import train_test_split\n",
    "\n",
    "feature_columns = [x for x in data.columns if x != 'Activity']\n",
    "X_train, X_test, y_train, y_test = train_test_split(data[feature_columns], data['Activity'],\n",
    "                 test_size=0.3, random_state=42)\n"
   ]
  },
  {
   "cell_type": "code",
   "execution_count": 38,
   "metadata": {
    "ExecuteTime": {
     "end_time": "2017-04-10T01:06:47.170296Z",
     "start_time": "2017-04-09T21:06:47.157710-04:00"
    },
    "jupyter": {
     "outputs_hidden": false
    },
    "run_control": {
     "marked": true
    }
   },
   "outputs": [
    {
     "data": {
      "text/plain": [
       "((7209, 561), (7209,), (3090, 561), (3090,))"
      ]
     },
     "execution_count": 38,
     "metadata": {},
     "output_type": "execute_result"
    }
   ],
   "source": [
    "X_train.shape, y_train.shape, X_test.shape, y_test.shape"
   ]
  },
  {
   "cell_type": "markdown",
   "metadata": {
    "run_control": {
     "marked": true
    }
   },
   "source": [
    "### Fit gradient boosted tree models "
   ]
  },
  {
   "cell_type": "code",
   "execution_count": 39,
   "metadata": {
    "ExecuteTime": {
     "end_time": "2017-04-10T01:25:21.780609Z",
     "start_time": "2017-04-09T21:06:47.175316-04:00"
    },
    "jupyter": {
     "outputs_hidden": false
    },
    "run_control": {
     "marked": true
    }
   },
   "outputs": [
    {
     "name": "stdout",
     "output_type": "stream",
     "text": [
      "Fitting model with 15 trees\n",
      "Fitting model with 25 trees\n",
      "Fitting model with 50 trees\n",
      "Fitting model with 100 trees\n",
      "Fitting model with 200 trees\n",
      "Fitting model with 400 trees\n"
     ]
    },
    {
     "data": {
      "text/html": [
       "<div>\n",
       "<style scoped>\n",
       "    .dataframe tbody tr th:only-of-type {\n",
       "        vertical-align: middle;\n",
       "    }\n",
       "\n",
       "    .dataframe tbody tr th {\n",
       "        vertical-align: top;\n",
       "    }\n",
       "\n",
       "    .dataframe thead th {\n",
       "        text-align: right;\n",
       "    }\n",
       "</style>\n",
       "<table border=\"1\" class=\"dataframe\">\n",
       "  <thead>\n",
       "    <tr style=\"text-align: right;\">\n",
       "      <th></th>\n",
       "      <th>error</th>\n",
       "    </tr>\n",
       "    <tr>\n",
       "      <th>n_trees</th>\n",
       "      <th></th>\n",
       "    </tr>\n",
       "  </thead>\n",
       "  <tbody>\n",
       "    <tr>\n",
       "      <th>15.0</th>\n",
       "      <td>0.051133</td>\n",
       "    </tr>\n",
       "    <tr>\n",
       "      <th>25.0</th>\n",
       "      <td>0.033981</td>\n",
       "    </tr>\n",
       "    <tr>\n",
       "      <th>50.0</th>\n",
       "      <td>0.019417</td>\n",
       "    </tr>\n",
       "    <tr>\n",
       "      <th>100.0</th>\n",
       "      <td>0.013592</td>\n",
       "    </tr>\n",
       "    <tr>\n",
       "      <th>200.0</th>\n",
       "      <td>0.011003</td>\n",
       "    </tr>\n",
       "    <tr>\n",
       "      <th>400.0</th>\n",
       "      <td>0.010356</td>\n",
       "    </tr>\n",
       "  </tbody>\n",
       "</table>\n",
       "</div>"
      ],
      "text/plain": [
       "            error\n",
       "n_trees          \n",
       "15.0     0.051133\n",
       "25.0     0.033981\n",
       "50.0     0.019417\n",
       "100.0    0.013592\n",
       "200.0    0.011003\n",
       "400.0    0.010356"
      ]
     },
     "execution_count": 39,
     "metadata": {},
     "output_type": "execute_result"
    }
   ],
   "source": [
    "from sklearn.ensemble import GradientBoostingClassifier\n",
    "from sklearn.metrics import accuracy_score\n",
    "\n",
    "error_list = list()\n",
    "\n",
    "# Iterate through various possibilities for number of trees\n",
    "tree_list = [15, 25, 50, 100, 200, 400]\n",
    "for n_trees in tree_list:\n",
    "    \n",
    "    # Initialize the gradient boost classifier\n",
    "    GBC = GradientBoostingClassifier(n_estimators=n_trees, random_state=42)\n",
    "\n",
    "    # Fit the model\n",
    "    print(f'Fitting model with {n_trees} trees')\n",
    "    GBC.fit(X_train.values, y_train.values)\n",
    "    y_pred = GBC.predict(X_test)\n",
    "\n",
    "    # Get the error\n",
    "    error = 1.0 - accuracy_score(y_test, y_pred)\n",
    "    \n",
    "    # Store it\n",
    "    error_list.append(pd.Series({'n_trees': n_trees, 'error': error}))\n",
    "\n",
    "error_df = pd.concat(error_list, axis=1).T.set_index('n_trees')\n",
    "\n",
    "error_df"
   ]
  },
  {
   "cell_type": "markdown",
   "metadata": {},
   "source": [
    "Now plot the result."
   ]
  },
  {
   "cell_type": "code",
   "execution_count": 40,
   "metadata": {
    "ExecuteTime": {
     "end_time": "2017-04-10T01:25:22.377634Z",
     "start_time": "2017-04-09T21:25:22.121923-04:00"
    },
    "jupyter": {
     "outputs_hidden": false
    },
    "run_control": {
     "marked": true
    }
   },
   "outputs": [
    {
     "data": {
      "image/png": "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\n",
      "text/plain": [
       "<Figure size 864x576 with 1 Axes>"
      ]
     },
     "metadata": {},
     "output_type": "display_data"
    }
   ],
   "source": [
    "sns.set_context('talk')\n",
    "sns.set_style('white')\n",
    "sns.set_palette(palette)\n",
    "\n",
    "# Create the plot\n",
    "ax = error_df.plot(marker='o', figsize=(12, 8), linewidth=5)\n",
    "\n",
    "# Set parameters\n",
    "ax.set(xlabel='Number of Trees', ylabel='Error')\n",
    "ax.set_xlim(0, max(error_df.index)*1.1);\n"
   ]
  },
  {
   "cell_type": "markdown",
   "metadata": {
    "run_control": {
     "marked": true
    }
   },
   "source": [
    "#### Using a grid search with cross-validation \n",
    "#### fiting a new gradient boosted classifier with the same list of estimators as before.\n",
    "Also trying varying the learning rates (0.1, 0.01, 0.001, etc.) \\\n",
    "The subsampling value (1.0 or 0.5) \\\n",
    "The number of maximum features (1, 2, etc.)."
   ]
  },
  {
   "cell_type": "code",
   "execution_count": 41,
   "metadata": {
    "ExecuteTime": {
     "end_time": "2017-04-10T01:35:23.346693Z",
     "start_time": "2017-04-09T21:25:22.379244-04:00"
    },
    "run_control": {
     "marked": true
    }
   },
   "outputs": [],
   "source": [
    "from sklearn.model_selection import GridSearchCV\n",
    "\n",
    "# The parameters to be fit\n",
    "param_grid = {'n_estimators': tree_list,\n",
    "              'learning_rate': [0.1, 0.01, 0.001, 0.0001],\n",
    "              'subsample': [1.0, 0.5],\n",
    "              'max_features': [1, 2, 3, 4]}\n",
    "\n",
    "# The grid search object\n",
    "GV_GBC = GridSearchCV(GradientBoostingClassifier(random_state=42), \n",
    "                      param_grid=param_grid, \n",
    "                      scoring='accuracy',\n",
    "                      n_jobs=-1)\n",
    "# Do the grid search\n",
    "GV_GBC = GV_GBC.fit(X_train, y_train)"
   ]
  },
  {
   "cell_type": "code",
   "execution_count": 42,
   "metadata": {
    "ExecuteTime": {
     "end_time": "2017-04-10T01:35:23.359160Z",
     "start_time": "2017-04-09T21:35:23.350350-04:00"
    },
    "jupyter": {
     "outputs_hidden": false
    }
   },
   "outputs": [
    {
     "data": {
      "text/plain": [
       "GradientBoostingClassifier(max_features=4, n_estimators=400, random_state=42,\n",
       "                           subsample=0.5)"
      ]
     },
     "execution_count": 42,
     "metadata": {},
     "output_type": "execute_result"
    }
   ],
   "source": [
    "# The best model\n",
    "GV_GBC.best_estimator_"
   ]
  },
  {
   "cell_type": "markdown",
   "metadata": {},
   "source": [
    "The error metrics. Classification report is particularly convenient for multi-class cases."
   ]
  },
  {
   "cell_type": "code",
   "execution_count": 43,
   "metadata": {
    "ExecuteTime": {
     "end_time": "2017-04-10T01:35:23.673080Z",
     "start_time": "2017-04-09T21:35:23.361883-04:00"
    },
    "jupyter": {
     "outputs_hidden": false
    }
   },
   "outputs": [
    {
     "name": "stdout",
     "output_type": "stream",
     "text": [
      "              precision    recall  f1-score   support\n",
      "\n",
      "           0       1.00      1.00      1.00       597\n",
      "           1       0.96      0.97      0.97       558\n",
      "           2       0.97      0.97      0.97       549\n",
      "           3       1.00      1.00      1.00       540\n",
      "           4       0.99      1.00      0.99       419\n",
      "           5       0.99      0.99      0.99       427\n",
      "\n",
      "    accuracy                           0.99      3090\n",
      "   macro avg       0.99      0.99      0.99      3090\n",
      "weighted avg       0.99      0.99      0.99      3090\n",
      "\n"
     ]
    }
   ],
   "source": [
    "from sklearn.metrics import classification_report\n",
    "\n",
    "y_pred = GV_GBC.predict(X_test)\n",
    "print(classification_report(y_pred, y_test))"
   ]
  },
  {
   "cell_type": "markdown",
   "metadata": {},
   "source": [
    "The confusion matrix.\\\n",
    "The gradient boosted model has a little trouble distinguishing between activity class 1 and 2."
   ]
  },
  {
   "cell_type": "code",
   "execution_count": 44,
   "metadata": {
    "ExecuteTime": {
     "end_time": "2017-04-10T01:35:24.084430Z",
     "start_time": "2017-04-09T21:35:23.675399-04:00"
    },
    "jupyter": {
     "outputs_hidden": false
    }
   },
   "outputs": [
    {
     "data": {
      "image/png": "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\n",
      "text/plain": [
       "<Figure size 432x288 with 2 Axes>"
      ]
     },
     "metadata": {},
     "output_type": "display_data"
    }
   ],
   "source": [
    "from sklearn.metrics import confusion_matrix\n",
    "\n",
    "sns.set_context('talk')\n",
    "cm = confusion_matrix(y_test, y_pred)\n",
    "ax = sns.heatmap(cm, annot=True, fmt='d', cmap=colors)\n",
    "### END SOLUTION"
   ]
  },
  {
   "cell_type": "markdown",
   "metadata": {},
   "source": [
    "### AdaBoost model "
   ]
  },
  {
   "cell_type": "code",
   "execution_count": 45,
   "metadata": {
    "ExecuteTime": {
     "end_time": "2017-04-10T01:41:12.569486Z",
     "start_time": "2017-04-09T21:35:24.086016-04:00"
    }
   },
   "outputs": [],
   "source": [
    "from sklearn.ensemble import AdaBoostClassifier\n",
    "from sklearn.tree import DecisionTreeClassifier\n",
    "\n",
    "ABC = AdaBoostClassifier(DecisionTreeClassifier(max_depth=1))\n",
    "\n",
    "param_grid = {'n_estimators': [100, 150, 200],\n",
    "              'learning_rate': [0.01, 0.001]}\n",
    "\n",
    "GV_ABC = GridSearchCV(ABC,\n",
    "                      param_grid=param_grid, \n",
    "                      scoring='accuracy',\n",
    "                      n_jobs=-1)\n",
    "\n",
    "GV_ABC = GV_ABC.fit(X_train, y_train)"
   ]
  },
  {
   "cell_type": "markdown",
   "metadata": {},
   "source": [
    "The best model."
   ]
  },
  {
   "cell_type": "code",
   "execution_count": 46,
   "metadata": {
    "ExecuteTime": {
     "end_time": "2017-04-10T01:41:12.577054Z",
     "start_time": "2017-04-09T21:41:12.571918-04:00"
    },
    "jupyter": {
     "outputs_hidden": false
    }
   },
   "outputs": [
    {
     "data": {
      "text/plain": [
       "AdaBoostClassifier(base_estimator=DecisionTreeClassifier(max_depth=1),\n",
       "                   learning_rate=0.01, n_estimators=100)"
      ]
     },
     "execution_count": 46,
     "metadata": {},
     "output_type": "execute_result"
    }
   ],
   "source": [
    "# The best model\n",
    "GV_ABC.best_estimator_"
   ]
  },
  {
   "cell_type": "markdown",
   "metadata": {},
   "source": [
    "The error metrics. \\\n",
    "The issues with class 1 and 2 appear to have become more problematic. \n",
    "Also note other issues for classes 3 - 5. \\\n",
    "AdaBoost is very sensitive to outliers, so that could be the problem here."
   ]
  },
  {
   "cell_type": "code",
   "execution_count": 47,
   "metadata": {
    "ExecuteTime": {
     "end_time": "2017-04-10T01:41:12.694494Z",
     "start_time": "2017-04-09T21:41:12.579980-04:00"
    },
    "jupyter": {
     "outputs_hidden": false
    }
   },
   "outputs": [
    {
     "name": "stdout",
     "output_type": "stream",
     "text": [
      "              precision    recall  f1-score   support\n",
      "\n",
      "           0       1.00      0.99      1.00       600\n",
      "           1       0.00      1.00      0.00         1\n",
      "           2       1.00      0.49      0.66      1106\n",
      "           3       0.92      0.84      0.88       589\n",
      "           4       0.73      0.95      0.82       320\n",
      "           5       0.89      0.80      0.84       474\n",
      "\n",
      "    accuracy                           0.75      3090\n",
      "   macro avg       0.76      0.85      0.70      3090\n",
      "weighted avg       0.94      0.75      0.81      3090\n",
      "\n"
     ]
    }
   ],
   "source": [
    "y_pred = GV_ABC.predict(X_test)\n",
    "print(classification_report(y_pred, y_test))"
   ]
  },
  {
   "cell_type": "code",
   "execution_count": 49,
   "metadata": {
    "ExecuteTime": {
     "end_time": "2017-04-10T01:41:12.986696Z",
     "start_time": "2017-04-09T21:41:12.696346-04:00"
    },
    "jupyter": {
     "outputs_hidden": false
    }
   },
   "outputs": [
    {
     "data": {
      "image/png": "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\n",
      "text/plain": [
       "<Figure size 432x288 with 2 Axes>"
      ]
     },
     "metadata": {},
     "output_type": "display_data"
    }
   ],
   "source": [
    "sns.set_context('talk')\n",
    "cm = confusion_matrix(y_test, y_pred)\n",
    "ax = sns.heatmap(cm, annot=True, fmt='d', cmap=colors)"
   ]
  },
  {
   "cell_type": "markdown",
   "metadata": {},
   "source": [
    "### Logistic regression model with regularization. "
   ]
  },
  {
   "cell_type": "code",
   "execution_count": 50,
   "metadata": {
    "ExecuteTime": {
     "end_time": "2017-04-10T01:41:56.052177Z",
     "start_time": "2017-04-09T21:41:12.988303-04:00"
    }
   },
   "outputs": [],
   "source": [
    "from sklearn.linear_model import LogisticRegression\n",
    "# L2 regularized logistic regression\n",
    "LR_L2 = LogisticRegression(penalty='l2', max_iter=500, solver='saga').fit(X_train, y_train)"
   ]
  },
  {
   "cell_type": "markdown",
   "metadata": {},
   "source": [
    "Errors and confusion matrix for the logistic regression model."
   ]
  },
  {
   "cell_type": "code",
   "execution_count": 51,
   "metadata": {
    "ExecuteTime": {
     "end_time": "2017-04-10T01:41:56.070163Z",
     "start_time": "2017-04-09T21:41:56.054354-04:00"
    },
    "jupyter": {
     "outputs_hidden": false
    }
   },
   "outputs": [
    {
     "name": "stdout",
     "output_type": "stream",
     "text": [
      "              precision    recall  f1-score   support\n",
      "\n",
      "           0       1.00      1.00      1.00       598\n",
      "           1       0.95      0.96      0.95       558\n",
      "           2       0.95      0.95      0.95       547\n",
      "           3       1.00      0.99      0.99       544\n",
      "           4       0.98      1.00      0.99       413\n",
      "           5       1.00      0.98      0.99       430\n",
      "\n",
      "    accuracy                           0.98      3090\n",
      "   macro avg       0.98      0.98      0.98      3090\n",
      "weighted avg       0.98      0.98      0.98      3090\n",
      "\n"
     ]
    }
   ],
   "source": [
    "y_pred = LR_L2.predict(X_test)\n",
    "print(classification_report(y_pred, y_test))"
   ]
  },
  {
   "cell_type": "code",
   "execution_count": 52,
   "metadata": {
    "ExecuteTime": {
     "end_time": "2017-04-10T01:41:56.388450Z",
     "start_time": "2017-04-09T21:41:56.072785-04:00"
    },
    "jupyter": {
     "outputs_hidden": false
    },
    "scrolled": true
   },
   "outputs": [
    {
     "data": {
      "image/png": "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\n",
      "text/plain": [
       "<Figure size 432x288 with 2 Axes>"
      ]
     },
     "metadata": {},
     "output_type": "display_data"
    }
   ],
   "source": [
    "sns.set_context('talk')\n",
    "cm = confusion_matrix(y_test, y_pred)\n",
    "ax = sns.heatmap(cm, annot=True, fmt='d', cmap=colors)"
   ]
  },
  {
   "cell_type": "markdown",
   "metadata": {},
   "source": [
    "And now the stacked model."
   ]
  },
  {
   "cell_type": "code",
   "execution_count": 53,
   "metadata": {
    "ExecuteTime": {
     "end_time": "2017-04-10T01:52:23.739656Z",
     "start_time": "2017-04-09T21:41:56.390038-04:00"
    }
   },
   "outputs": [],
   "source": [
    "from sklearn.ensemble import VotingClassifier\n",
    "\n",
    "# The combined model--logistic regression and gradient boosted trees\n",
    "estimators = [('LR_L2', LR_L2), ('GBC', GV_GBC)]\n",
    "\n",
    "VC = VotingClassifier(estimators, voting='soft')\n",
    "VC = VC.fit(X_train, y_train)"
   ]
  },
  {
   "cell_type": "markdown",
   "metadata": {},
   "source": [
    "Performance for the voting classifier should improve relative to either logistic regression or gradient boosted trees alone. \\\n",
    "However, the fact that logistic regression does almost as well as gradient boosted trees is an important reminder to try the simplest model first.\\\n",
    "In some cases, its performance will be good enough."
   ]
  },
  {
   "cell_type": "code",
   "execution_count": 54,
   "metadata": {
    "ExecuteTime": {
     "end_time": "2017-04-10T01:52:24.057613Z",
     "start_time": "2017-04-09T21:52:23.742553-04:00"
    },
    "jupyter": {
     "outputs_hidden": false
    }
   },
   "outputs": [
    {
     "name": "stdout",
     "output_type": "stream",
     "text": [
      "              precision    recall  f1-score   support\n",
      "\n",
      "           0       1.00      1.00      1.00       597\n",
      "           1       0.97      0.96      0.97       563\n",
      "           2       0.97      0.97      0.97       547\n",
      "           3       1.00      1.00      1.00       539\n",
      "           4       1.00      0.99      1.00       420\n",
      "           5       0.98      1.00      0.99       424\n",
      "\n",
      "    accuracy                           0.99      3090\n",
      "   macro avg       0.99      0.99      0.99      3090\n",
      "weighted avg       0.99      0.99      0.99      3090\n",
      "\n"
     ]
    }
   ],
   "source": [
    "y_pred = VC.predict(X_test)\n",
    "print(classification_report(y_test, y_pred))"
   ]
  },
  {
   "cell_type": "code",
   "execution_count": 55,
   "metadata": {
    "ExecuteTime": {
     "end_time": "2017-04-10T01:52:24.442361Z",
     "start_time": "2017-04-09T21:52:24.059996-04:00"
    },
    "jupyter": {
     "outputs_hidden": false
    }
   },
   "outputs": [
    {
     "data": {
      "image/png": "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\n",
      "text/plain": [
       "<Figure size 432x288 with 2 Axes>"
      ]
     },
     "metadata": {},
     "output_type": "display_data"
    }
   ],
   "source": [
    "sns.set_context('talk')\n",
    "cm = confusion_matrix(y_test, y_pred)\n",
    "ax = sns.heatmap(cm, annot=True, fmt='d', cmap=colors)"
   ]
  }
 ],
 "metadata": {
  "kernelspec": {
   "display_name": "Python 3",
   "language": "python",
   "name": "python3"
  },
  "language_info": {
   "codemirror_mode": {
    "name": "ipython",
    "version": 3
   },
   "file_extension": ".py",
   "mimetype": "text/x-python",
   "name": "python",
   "nbconvert_exporter": "python",
   "pygments_lexer": "ipython3",
   "version": "3.8.8"
  }
 },
 "nbformat": 4,
 "nbformat_minor": 4
}
